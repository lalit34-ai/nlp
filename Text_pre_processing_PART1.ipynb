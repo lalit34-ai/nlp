{
  "nbformat": 4,
  "nbformat_minor": 0,
  "metadata": {
    "colab": {
      "name": "Text_pre-processing_PART1.ipynb",
      "provenance": []
    },
    "kernelspec": {
      "name": "python3",
      "display_name": "Python 3"
    },
    "language_info": {
      "name": "python"
    }
  },
  "cells": [
    {
      "cell_type": "markdown",
      "source": [
        "15-02-2022"
      ],
      "metadata": {
        "id": "mz04KoP9rWSX"
      }
    },
    {
      "cell_type": "markdown",
      "source": [
        "#### To lowercase"
      ],
      "metadata": {
        "id": "CPMwPsmxnvjM"
      }
    },
    {
      "cell_type": "code",
      "execution_count": 2,
      "metadata": {
        "id": "3BMD24IJnoVh"
      },
      "outputs": [],
      "source": [
        "def lower_case_conversion(text):\n",
        "  lower_text=text.lower()\n",
        "  return lower_text"
      ]
    },
    {
      "cell_type": "code",
      "source": [
        "ex_lowercase=\"This is an example of LOWER CASE conversion\"\n",
        "ls_result=lower_case_conversion(ex_lowercase)\n",
        "ls_result"
      ],
      "metadata": {
        "colab": {
          "base_uri": "https://localhost:8080/",
          "height": 35
        },
        "id": "bHOZ1y4Sn7Ke",
        "outputId": "4e07aff5-c768-48fe-9c9d-ffb3c91ebdee"
      },
      "execution_count": 3,
      "outputs": [
        {
          "output_type": "execute_result",
          "data": {
            "application/vnd.google.colaboratory.intrinsic+json": {
              "type": "string"
            },
            "text/plain": [
              "'this is an example of lower case conversion'"
            ]
          },
          "metadata": {},
          "execution_count": 3
        }
      ]
    },
    {
      "cell_type": "markdown",
      "source": [
        "#### Remove html tags"
      ],
      "metadata": {
        "id": "dRUpOg5zoSZX"
      }
    },
    {
      "cell_type": "code",
      "source": [
        "import re\n",
        "def remove_html_tags(text):\n",
        "  html_pattern = r'<.*?>'\n",
        "  without_html=re.sub(pattern=html_pattern, repl=' ', string=text)\n",
        "  return without_html"
      ],
      "metadata": {
        "id": "KGCeaUuaoZit"
      },
      "execution_count": 7,
      "outputs": []
    },
    {
      "cell_type": "code",
      "source": [
        "ex_htmltags=\"\"\" <body>\n",
        "<div>\n",
        "<h1> Hi, this is html</h1>\n",
        "</div>\n",
        "</body>\"\"\"\n",
        "ls_result=remove_html_tags(ex_htmltags)\n",
        "print(ls_result)"
      ],
      "metadata": {
        "colab": {
          "base_uri": "https://localhost:8080/"
        },
        "id": "jhahvScupTTE",
        "outputId": "d9b72927-18db-4aed-f490-103d8d23ae1a"
      },
      "execution_count": 8,
      "outputs": [
        {
          "output_type": "stream",
          "name": "stdout",
          "text": [
            "  \n",
            " \n",
            "  Hi, this is html \n",
            " \n",
            " \n"
          ]
        }
      ]
    },
    {
      "cell_type": "code",
      "source": [
        "from bs4 import BeautifulSoup\n",
        "def remove_html_tags_bs(text):\n",
        "  parser = BeautifulSoup(text,\"html.parser\")\n",
        "  without_html = parser.get_text(separator=\" \")\n",
        "  return without_html"
      ],
      "metadata": {
        "id": "zjtiznQmqLVr"
      },
      "execution_count": 9,
      "outputs": []
    },
    {
      "cell_type": "code",
      "source": [
        "ex_htmltags=\"\"\" <body>\n",
        "<div>\n",
        "<h1> Hi, this is html</h1>\n",
        "</div>\n",
        "</body>\"\"\"\n",
        "ls_result=remove_html_tags_bs(ex_htmltags)\n",
        "print(ls_result)"
      ],
      "metadata": {
        "colab": {
          "base_uri": "https://localhost:8080/"
        },
        "id": "AeFK5WKEqLXC",
        "outputId": "0d9b59cd-c693-49ef-edd3-6fe5a3ef2973"
      },
      "execution_count": 11,
      "outputs": [
        {
          "output_type": "stream",
          "name": "stdout",
          "text": [
            "  \n",
            " \n",
            "  Hi, this is html \n",
            " \n",
            "\n"
          ]
        }
      ]
    },
    {
      "cell_type": "markdown",
      "source": [
        "Remove numbers"
      ],
      "metadata": {
        "id": "ibCsTjt5qsrz"
      }
    },
    {
      "cell_type": "code",
      "source": [
        "import re\n",
        "def remove_num(text):\n",
        "  num_pattern = r'\\d+'\n",
        "  without_num=re.sub(pattern=num_pattern, repl='', string=text)\n",
        "  return without_num"
      ],
      "metadata": {
        "id": "vbvYHbXXqLbL"
      },
      "execution_count": 14,
      "outputs": []
    },
    {
      "cell_type": "code",
      "source": [
        "ex_num = \"My num is 7 and 2\"\n",
        "num_result=remove_num(ex_num)\n",
        "print(num_result)"
      ],
      "metadata": {
        "colab": {
          "base_uri": "https://localhost:8080/"
        },
        "id": "gV4lQO1BqLcc",
        "outputId": "e7242a45-624e-4ca7-d566-a3e3b2a928c5"
      },
      "execution_count": 15,
      "outputs": [
        {
          "output_type": "stream",
          "name": "stdout",
          "text": [
            "My num is  and \n"
          ]
        }
      ]
    },
    {
      "cell_type": "code",
      "source": [
        "ex_nums = \"28\"\n",
        "print(\"Output:\",num_to_word(ex_nums))"
      ],
      "metadata": {
        "colab": {
          "base_uri": "https://localhost:8080/"
        },
        "id": "KxO3XeZ_sDZi",
        "outputId": "84dc3ce2-8065-4088-e1f3-50e675e2f46b"
      },
      "execution_count": 19,
      "outputs": [
        {
          "output_type": "stream",
          "name": "stdout",
          "text": [
            "Output: twenty-eight\n"
          ]
        }
      ]
    }
  ]
}