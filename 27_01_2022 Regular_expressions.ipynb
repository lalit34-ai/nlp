{
  "nbformat": 4,
  "nbformat_minor": 0,
  "metadata": {
    "colab": {
      "name": "Regular expressions.ipynb",
      "provenance": []
    },
    "kernelspec": {
      "name": "python3",
      "display_name": "Python 3"
    },
    "language_info": {
      "name": "python"
    }
  },
  "cells": [
    {
      "cell_type": "markdown",
      "source": [
        "#27-01-2022 "
      ],
      "metadata": {
        "id": "EGDKoCsjBFvX"
      }
    },
    {
      "cell_type": "code",
      "execution_count": 1,
      "metadata": {
        "id": "ICqy8kov56Z8"
      },
      "outputs": [],
      "source": [
        "import re"
      ]
    },
    {
      "cell_type": "code",
      "source": [
        "#match 'data' followed by a whitespace char followed by \n",
        "#atleat one alphanumeric char followed bby whitespace char.\n",
        "regex = \"data\\s\\w+\\s\"\n",
        "matched = re.match(regex,\"18CSC412 data science\")\n",
        "print(matched)"
      ],
      "metadata": {
        "colab": {
          "base_uri": "https://localhost:8080/"
        },
        "id": "sIu01CVo6x8V",
        "outputId": "1963528d-e2a1-4c1c-8db9-6f2e094304b4"
      },
      "execution_count": 12,
      "outputs": [
        {
          "output_type": "stream",
          "name": "stdout",
          "text": [
            "None\n"
          ]
        }
      ]
    },
    {
      "cell_type": "code",
      "source": [
        "regex=\"data\\w+\"\n",
        "matched=re.match(regex, \"datascience 18CSC412 \")\n",
        "print(matched)"
      ],
      "metadata": {
        "colab": {
          "base_uri": "https://localhost:8080/"
        },
        "id": "3LD7AJ9m6yIV",
        "outputId": "91f3f494-8d3c-411b-fc1a-4039688cba50"
      },
      "execution_count": 23,
      "outputs": [
        {
          "output_type": "stream",
          "name": "stdout",
          "text": [
            "<re.Match object; span=(0, 11), match='datascience'>\n"
          ]
        }
      ]
    },
    {
      "cell_type": "code",
      "source": [
        "#tuple containing starting and ending index of the matched string\n",
        "matched.span()"
      ],
      "metadata": {
        "colab": {
          "base_uri": "https://localhost:8080/"
        },
        "id": "C6dNm7T46yK7",
        "outputId": "c0bac6e0-a939-426f-ec14-345d61357e81"
      },
      "execution_count": 24,
      "outputs": [
        {
          "output_type": "execute_result",
          "data": {
            "text/plain": [
              "(0, 11)"
            ]
          },
          "metadata": {},
          "execution_count": 24
        }
      ]
    },
    {
      "cell_type": "code",
      "source": [
        "#Complete match \n",
        "matched.group()"
      ],
      "metadata": {
        "colab": {
          "base_uri": "https://localhost:8080/",
          "height": 36
        },
        "id": "vKwm8ET6DXD4",
        "outputId": "2d5122ae-c5ed-440d-df35-e81c888fa784"
      },
      "execution_count": 25,
      "outputs": [
        {
          "output_type": "execute_result",
          "data": {
            "application/vnd.google.colaboratory.intrinsic+json": {
              "type": "string"
            },
            "text/plain": [
              "'datascience'"
            ]
          },
          "metadata": {},
          "execution_count": 25
        }
      ]
    }
  ]
}