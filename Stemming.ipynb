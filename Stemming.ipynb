{
  "nbformat": 4,
  "nbformat_minor": 0,
  "metadata": {
    "colab": {
      "name": "Stemming.ipynb",
      "provenance": [],
      "collapsed_sections": [
        "g0oJ0z-kzEB-",
        "GcdORx4PzIAo",
        "3ZQ-0AYy0KKW",
        "cL9ao1a204xW"
      ]
    },
    "kernelspec": {
      "name": "python3",
      "display_name": "Python 3"
    },
    "language_info": {
      "name": "python"
    }
  },
  "cells": [
    {
      "cell_type": "markdown",
      "source": [
        "#### 08-02-2022 Lab session"
      ],
      "metadata": {
        "id": "8byzR6efzLQm"
      }
    },
    {
      "cell_type": "markdown",
      "source": [
        "##### Porter Stemmer"
      ],
      "metadata": {
        "id": "g0oJ0z-kzEB-"
      }
    },
    {
      "cell_type": "code",
      "execution_count": null,
      "metadata": {
        "id": "1wCL2KzpxqYH"
      },
      "outputs": [],
      "source": [
        "from nltk.stem import PorterStemmer"
      ]
    },
    {
      "cell_type": "code",
      "source": [
        "porter = PorterStemmer()"
      ],
      "metadata": {
        "id": "nCUPyO9Jxv4F"
      },
      "execution_count": null,
      "outputs": []
    },
    {
      "cell_type": "code",
      "source": [
        "words=['connects','connecting','connect','connected']\n",
        "\n",
        "for word in words:\n",
        "  print(porter.stem(word))"
      ],
      "metadata": {
        "colab": {
          "base_uri": "https://localhost:8080/"
        },
        "id": "kX_KKV8Lxv6k",
        "outputId": "a85c010e-6177-4b5e-eeee-6d65ea8c1a80"
      },
      "execution_count": null,
      "outputs": [
        {
          "output_type": "stream",
          "name": "stdout",
          "text": [
            "connect\n",
            "connect\n",
            "connect\n",
            "connect\n"
          ]
        }
      ]
    },
    {
      "cell_type": "code",
      "source": [
        "words=['merges','merging','merge','merged']\n",
        "\n",
        "for word in words:\n",
        "  print(porter.stem(word))\n",
        "# there is no word 'merg'. It should be 'merge'"
      ],
      "metadata": {
        "colab": {
          "base_uri": "https://localhost:8080/"
        },
        "id": "-iA5VsOlxv9D",
        "outputId": "45a97394-bd5e-4be5-ea9e-5e0f99d702fd"
      },
      "execution_count": null,
      "outputs": [
        {
          "output_type": "stream",
          "name": "stdout",
          "text": [
            "merg\n",
            "merg\n",
            "merg\n",
            "merg\n"
          ]
        }
      ]
    },
    {
      "cell_type": "code",
      "source": [
        "from nltk.stem import SnowballStemmer\n",
        "snowball = SnowballStemmer(language='english')\n",
        "words=['generous','generate','generously','generation']\n",
        "\n",
        "for word in words:\n",
        "  print(porter.stem(word))"
      ],
      "metadata": {
        "colab": {
          "base_uri": "https://localhost:8080/"
        },
        "id": "cPwJOLffzoa1",
        "outputId": "04c9a950-53cc-4118-d373-b11b901a38cc"
      },
      "execution_count": null,
      "outputs": [
        {
          "output_type": "stream",
          "name": "stdout",
          "text": [
            "gener\n",
            "gener\n",
            "gener\n",
            "gener\n"
          ]
        }
      ]
    },
    {
      "cell_type": "code",
      "source": [
        "words = ['eating', 'eats','eaten','puts', 'putting']\n",
        "for word in words:\n",
        "  print(porter.stem(word))"
      ],
      "metadata": {
        "colab": {
          "base_uri": "https://localhost:8080/"
        },
        "id": "PiglLL5i0je2",
        "outputId": "90a26dcb-8947-4b76-e216-90305309ab11"
      },
      "execution_count": null,
      "outputs": [
        {
          "output_type": "stream",
          "name": "stdout",
          "text": [
            "eat\n",
            "eat\n",
            "eaten\n",
            "put\n",
            "put\n"
          ]
        }
      ]
    },
    {
      "cell_type": "markdown",
      "source": [
        "##### Snowball Stemmer"
      ],
      "metadata": {
        "id": "GcdORx4PzIAo"
      }
    },
    {
      "cell_type": "code",
      "source": [
        "from nltk.stem import SnowballStemmer\n",
        "snowball = SnowballStemmer(language='english')\n",
        "words=['generous','generate','generously','generation']\n",
        "\n",
        "for word in words:\n",
        "  print(snowball.stem(word))"
      ],
      "metadata": {
        "colab": {
          "base_uri": "https://localhost:8080/"
        },
        "id": "v0A2PV5VzHmI",
        "outputId": "d95a1045-6a8c-4488-be3c-9553e2199f36"
      },
      "execution_count": null,
      "outputs": [
        {
          "output_type": "stream",
          "name": "stdout",
          "text": [
            "generous\n",
            "generat\n",
            "generous\n",
            "generat\n"
          ]
        }
      ]
    },
    {
      "cell_type": "code",
      "source": [
        "words = ['eating', 'eats','eaten','puts', 'putting']\n",
        "for word in words:\n",
        "  print(snowball.stem(word))"
      ],
      "metadata": {
        "colab": {
          "base_uri": "https://localhost:8080/"
        },
        "id": "MN1mfS2K0o7l",
        "outputId": "a0faf95f-c084-42d5-bc9e-97cbab853c85"
      },
      "execution_count": null,
      "outputs": [
        {
          "output_type": "stream",
          "name": "stdout",
          "text": [
            "eat\n",
            "eat\n",
            "eaten\n",
            "put\n",
            "put\n"
          ]
        }
      ]
    },
    {
      "cell_type": "markdown",
      "source": [
        "##### Lancaster Stemmer"
      ],
      "metadata": {
        "id": "3ZQ-0AYy0KKW"
      }
    },
    {
      "cell_type": "code",
      "source": [
        "from nltk.stem import LancasterStemmer\n",
        "lancaster = LancasterStemmer()\n",
        "\n",
        "words = ['eating', 'eats','eaten','puts', 'putting']\n",
        "for word in words:\n",
        "  print(lancaster.stem(word))"
      ],
      "metadata": {
        "colab": {
          "base_uri": "https://localhost:8080/"
        },
        "id": "NhH8W_X4xv_Y",
        "outputId": "c204a7c4-e834-4252-bf8f-5d3231738e78"
      },
      "execution_count": null,
      "outputs": [
        {
          "output_type": "stream",
          "name": "stdout",
          "text": [
            "eat\n",
            "eat\n",
            "eat\n",
            "put\n",
            "put\n"
          ]
        }
      ]
    },
    {
      "cell_type": "markdown",
      "source": [
        "##### RegexpStemmer"
      ],
      "metadata": {
        "id": "cL9ao1a204xW"
      }
    },
    {
      "cell_type": "code",
      "source": [
        "from nltk.stem import RegexpStemmer\n",
        "\n",
        "regexp = RegexpStemmer('ing$|e$|able$|ed$')\n",
        "words = ['advisable','counting','hosted']\n",
        "for word in words:\n",
        "  print(regexp.stem(word))"
      ],
      "metadata": {
        "colab": {
          "base_uri": "https://localhost:8080/"
        },
        "id": "-7_64VrJxwBr",
        "outputId": "de5b8cd9-78b8-4554-b302-5d70ee0e7ad5"
      },
      "execution_count": null,
      "outputs": [
        {
          "output_type": "stream",
          "name": "stdout",
          "text": [
            "advis\n",
            "count\n",
            "host\n"
          ]
        }
      ]
    }
  ]
}