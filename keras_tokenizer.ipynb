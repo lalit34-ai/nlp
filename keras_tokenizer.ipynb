{
  "nbformat": 4,
  "nbformat_minor": 0,
  "metadata": {
    "colab": {
      "name": "keras_tokenizer.ipynb",
      "provenance": []
    },
    "kernelspec": {
      "name": "python3",
      "display_name": "Python 3"
    },
    "language_info": {
      "name": "python"
    }
  },
  "cells": [
    {
      "cell_type": "markdown",
      "source": [
        "#### 15-03-2022"
      ],
      "metadata": {
        "id": "7uGVRRc2xFXe"
      }
    },
    {
      "cell_type": "code",
      "execution_count": null,
      "metadata": {
        "id": "VH1Gde8r_8XC"
      },
      "outputs": [],
      "source": [
        "from keras.preprocessing.text import Tokenizer"
      ]
    },
    {
      "cell_type": "code",
      "source": [
        "t = Tokenizer()\n",
        "#Defining 4 document lists\n",
        "fit_text = ['Machine Learning Knowledge',\n",
        "            'Deep Learning',\n",
        "            'Machine Learning',\n",
        "            'Artificial intelligence']\n",
        "t.fit_on_texts(fit_text)"
      ],
      "metadata": {
        "id": "RA6NVhXhAJb2"
      },
      "execution_count": null,
      "outputs": []
    },
    {
      "cell_type": "code",
      "source": [
        "# The documnet_count rints the no. of documnets present in our corpus\n",
        "print(\"The documnet count:\", t.document_count)"
      ],
      "metadata": {
        "colab": {
          "base_uri": "https://localhost:8080/"
        },
        "id": "gh89TCPvAuBK",
        "outputId": "cb6e1e5a-12e5-4aec-bdfe-47047dadb949"
      },
      "execution_count": null,
      "outputs": [
        {
          "output_type": "stream",
          "name": "stdout",
          "text": [
            "The documnet count: 4\n"
          ]
        }
      ]
    },
    {
      "cell_type": "code",
      "source": [
        "# The word_count shows the no. of times words occur in the text corpus\n",
        "print(\"The words count:\", t.word_counts)"
      ],
      "metadata": {
        "colab": {
          "base_uri": "https://localhost:8080/"
        },
        "id": "WjGysBp2BKYM",
        "outputId": "3dbd6dfb-3d5c-4649-ec4d-551ecf2b2df1"
      },
      "execution_count": null,
      "outputs": [
        {
          "output_type": "stream",
          "name": "stdout",
          "text": [
            "The words count: OrderedDict([('machine', 2), ('learning', 3), ('knowledge', 1), ('deep', 1), ('artificial', 1), ('intelligence', 1)])\n"
          ]
        }
      ]
    },
    {
      "cell_type": "code",
      "source": [
        "#Assigns a unique index to each word present in the text\n",
        "print(\"The words index:\", t.word_index)"
      ],
      "metadata": {
        "colab": {
          "base_uri": "https://localhost:8080/"
        },
        "id": "u9fCn1AJBY9b",
        "outputId": "08b0b6cd-514f-46bb-daf7-7ff6e7f37d09"
      },
      "execution_count": null,
      "outputs": [
        {
          "output_type": "stream",
          "name": "stdout",
          "text": [
            "The words index: {'learning': 1, 'machine': 2, 'knowledge': 3, 'deep': 4, 'artificial': 5, 'intelligence': 6}\n"
          ]
        }
      ]
    },
    {
      "cell_type": "code",
      "source": [
        "#Tells in how many documents each of the word appear\n",
        "print(\"The word docs:\", t.word_docs)"
      ],
      "metadata": {
        "colab": {
          "base_uri": "https://localhost:8080/"
        },
        "id": "h04_U8gyBsBy",
        "outputId": "94daede4-c049-4621-9bad-ddbda8a42e53"
      },
      "execution_count": null,
      "outputs": [
        {
          "output_type": "stream",
          "name": "stdout",
          "text": [
            "The word docs: defaultdict(<class 'int'>, {'machine': 2, 'learning': 3, 'knowledge': 1, 'deep': 1, 'artificial': 1, 'intelligence': 1})\n"
          ]
        }
      ]
    },
    {
      "cell_type": "code",
      "source": [
        "t = Tokenizer()\n",
        "fit_text = \"Machine Learning\"\n",
        "\n",
        "t.fit_on_texts(fit_text)\n",
        "\n",
        "print(\"Count of characters\", t.word_counts)\n",
        "print(\"Length f text\", t.document_count)\n",
        "print(\"Character index\", t.word_index)\n",
        "print(\"FRequency of characters\",t.word_docs )"
      ],
      "metadata": {
        "colab": {
          "base_uri": "https://localhost:8080/"
        },
        "id": "7n2BcQCuCTbL",
        "outputId": "371c44d0-939b-44b8-be4d-60b87c769189"
      },
      "execution_count": null,
      "outputs": [
        {
          "output_type": "stream",
          "name": "stdout",
          "text": [
            "Count of characters OrderedDict([('m', 1), ('a', 2), ('c', 1), ('h', 1), ('i', 2), ('n', 3), ('e', 2), ('l', 1), ('r', 1), ('g', 1)])\n",
            "Length f text 16\n",
            "Character index {'n': 1, 'a': 2, 'i': 3, 'e': 4, 'm': 5, 'c': 6, 'h': 7, 'l': 8, 'r': 9, 'g': 10}\n",
            "FRequency of characters defaultdict(<class 'int'>, {'m': 1, 'a': 2, 'c': 1, 'h': 1, 'i': 2, 'n': 3, 'e': 2, 'l': 1, 'r': 1, 'g': 1})\n"
          ]
        }
      ]
    },
    {
      "cell_type": "code",
      "source": [
        "# Text to sequence:  convert to numbers "
      ],
      "metadata": {
        "id": "76C7qq0rC7XP"
      },
      "execution_count": null,
      "outputs": []
    },
    {
      "cell_type": "code",
      "source": [
        "t = Tokenizer()\n",
        "test_text = ['Machine Learning Knowledge',\n",
        "            'Deep Learning',\n",
        "            'Machine Learning',\n",
        "            'Artificial intelligence']\n",
        "t.fit_on_texts(test_text)\n",
        "sequences = t.texts_to_sequences(test_text)\n",
        "print(\"The sequences generated from the text are \", sequences)"
      ],
      "metadata": {
        "colab": {
          "base_uri": "https://localhost:8080/"
        },
        "id": "xRSDc3uBDBBA",
        "outputId": "e6778853-5382-465d-b5d3-8a4f579c232e"
      },
      "execution_count": null,
      "outputs": [
        {
          "output_type": "stream",
          "name": "stdout",
          "text": [
            "The sequences generated from the text are  [[2, 1, 3], [4, 1], [2, 1], [5, 6]]\n"
          ]
        }
      ]
    },
    {
      "cell_type": "markdown",
      "source": [
        "text to sequence on a string"
      ],
      "metadata": {
        "id": "pctQYYAnD245"
      }
    },
    {
      "cell_type": "code",
      "source": [
        "t = Tokenizer()\n",
        "test_text = 'Machine Learning'\n",
        "t.fit_on_texts(test_text)\n",
        "sequences = t.texts_to_sequences(test_text)\n",
        "print(\"The sequences generated from the text are \", sequences)"
      ],
      "metadata": {
        "colab": {
          "base_uri": "https://localhost:8080/"
        },
        "id": "7al7X4TUD6OR",
        "outputId": "1ab6b19b-ffce-4f45-e169-f245afec8327"
      },
      "execution_count": null,
      "outputs": [
        {
          "output_type": "stream",
          "name": "stdout",
          "text": [
            "The sequences generated from the text are  [[5], [2], [6], [7], [3], [1], [4], [], [8], [4], [2], [9], [1], [3], [1], [10]]\n"
          ]
        }
      ]
    },
    {
      "cell_type": "markdown",
      "source": [
        "text to matrix"
      ],
      "metadata": {
        "id": "8YszguBbEquq"
      }
    },
    {
      "cell_type": "code",
      "source": [
        "docs = ['Marvellous machine learning',\n",
        "        'Dazzling deep learning',\n",
        "        'Champion computer vision']\n",
        "t = Tokenizer()\n",
        "t.fit_on_texts(docs)\n",
        "encoded_docs = t.texts_to_matrix(docs, mode='binary')\n",
        "print(encoded_docs)"
      ],
      "metadata": {
        "colab": {
          "base_uri": "https://localhost:8080/"
        },
        "id": "QqCYnyKmEsGP",
        "outputId": "1d2a4372-b423-4117-a263-65fa6f2b633f"
      },
      "execution_count": null,
      "outputs": [
        {
          "output_type": "stream",
          "name": "stdout",
          "text": [
            "[[0. 1. 1. 1. 0. 0. 0. 0. 0.]\n",
            " [0. 1. 0. 0. 1. 1. 0. 0. 0.]\n",
            " [0. 0. 0. 0. 0. 0. 1. 1. 1.]]\n"
          ]
        }
      ]
    },
    {
      "cell_type": "code",
      "source": [
        "docs = ['Marvellous machine learning Marvellous machine learning',\n",
        "        'Dazzling deep learning',\n",
        "        'Champion computer vision']\n",
        "t = Tokenizer()\n",
        "t.fit_on_texts(docs)\n",
        "encoded_docs = t.texts_to_matrix(docs, mode='count')\n",
        "print(encoded_docs)"
      ],
      "metadata": {
        "colab": {
          "base_uri": "https://localhost:8080/"
        },
        "id": "KldkLHTSFYfQ",
        "outputId": "3a8e6519-b87c-4ea2-88d5-77eb3662ef2d"
      },
      "execution_count": null,
      "outputs": [
        {
          "output_type": "stream",
          "name": "stdout",
          "text": [
            "[[0. 2. 2. 2. 0. 0. 0. 0. 0.]\n",
            " [0. 1. 0. 0. 1. 1. 0. 0. 0.]\n",
            " [0. 0. 0. 0. 0. 0. 1. 1. 1.]]\n"
          ]
        }
      ]
    },
    {
      "cell_type": "markdown",
      "source": [
        "TEXTS TO MATRIX WITH MODE = tfidf"
      ],
      "metadata": {
        "id": "-xZoPsyPF6pz"
      }
    },
    {
      "cell_type": "code",
      "source": [
        "docs = ['Marvellous machine learning Marvellous machine learning',\n",
        "        'Dazzling deep learning',\n",
        "        'Champion computer vision']\n",
        "t = Tokenizer()\n",
        "t.fit_on_texts(docs)\n",
        "encoded_docs = t.texts_to_matrix(docs, mode='tfidf')\n",
        "print(encoded_docs)"
      ],
      "metadata": {
        "colab": {
          "base_uri": "https://localhost:8080/"
        },
        "id": "Lv7nfr_aGG0F",
        "outputId": "8070392a-d7e2-466b-b938-e152940b3f3d"
      },
      "execution_count": null,
      "outputs": [
        {
          "output_type": "stream",
          "name": "stdout",
          "text": [
            "[[0.         1.17360019 1.55141507 1.55141507 0.         0.\n",
            "  0.         0.         0.        ]\n",
            " [0.         0.69314718 0.         0.         0.91629073 0.91629073\n",
            "  0.         0.         0.        ]\n",
            " [0.         0.         0.         0.         0.         0.\n",
            "  0.91629073 0.91629073 0.91629073]]\n"
          ]
        }
      ]
    },
    {
      "cell_type": "markdown",
      "source": [
        "TEXTS TO MATRIX WITH MODE = freq"
      ],
      "metadata": {
        "id": "HaGioqZSGe0K"
      }
    },
    {
      "cell_type": "code",
      "source": [
        "docs = ['Marvellous machine learning Marvellous machine learning',\n",
        "        'Dazzling deep learning',\n",
        "        'Champion computer vision']\n",
        "t = Tokenizer()\n",
        "t.fit_on_texts(docs)\n",
        "encoded_docs = t.texts_to_matrix(docs, mode='freq')\n",
        "print(encoded_docs)"
      ],
      "metadata": {
        "colab": {
          "base_uri": "https://localhost:8080/"
        },
        "id": "ud3B842SGgpQ",
        "outputId": "b636f04b-81b6-48e4-da0f-d66f1230d349"
      },
      "execution_count": null,
      "outputs": [
        {
          "output_type": "stream",
          "name": "stdout",
          "text": [
            "[[0.         0.33333333 0.33333333 0.33333333 0.         0.\n",
            "  0.         0.         0.        ]\n",
            " [0.         0.33333333 0.         0.         0.33333333 0.33333333\n",
            "  0.         0.         0.        ]\n",
            " [0.         0.         0.         0.         0.         0.\n",
            "  0.33333333 0.33333333 0.33333333]]\n"
          ]
        }
      ]
    },
    {
      "cell_type": "markdown",
      "source": [
        "#### 15-03-2022 Lab Session"
      ],
      "metadata": {
        "id": "rnA08oy0xKza"
      }
    },
    {
      "cell_type": "code",
      "source": [
        "import keras\n",
        "import numpy as np\n",
        "from keras.datasets import reuters\n",
        "import tensorflow as tf"
      ],
      "metadata": {
        "id": "yjyxvS8Vvpwx"
      },
      "execution_count": null,
      "outputs": []
    },
    {
      "cell_type": "code",
      "source": [
        "(x_train, y_train), (x_test, y_test) = reuters.load_data(num_words=None, test_split=0.2)"
      ],
      "metadata": {
        "colab": {
          "base_uri": "https://localhost:8080/"
        },
        "id": "UwbarNlExVyv",
        "outputId": "f50c21e1-4c32-46d8-e1d3-47fedb0b5f1a"
      },
      "execution_count": null,
      "outputs": [
        {
          "output_type": "stream",
          "name": "stdout",
          "text": [
            "Downloading data from https://storage.googleapis.com/tensorflow/tf-keras-datasets/reuters.npz\n",
            "2113536/2110848 [==============================] - 0s 0us/step\n",
            "2121728/2110848 [==============================] - 0s 0us/step\n"
          ]
        }
      ]
    },
    {
      "cell_type": "code",
      "source": [
        "print(len(x_train))\n",
        "print(len(x_test))"
      ],
      "metadata": {
        "colab": {
          "base_uri": "https://localhost:8080/"
        },
        "id": "OX8Vjd8Sx7Cl",
        "outputId": "a22fc0ad-4593-4732-f952-6391f0b77402"
      },
      "execution_count": null,
      "outputs": [
        {
          "output_type": "stream",
          "name": "stdout",
          "text": [
            "8982\n",
            "2246\n"
          ]
        }
      ]
    },
    {
      "cell_type": "code",
      "source": [
        "num_classes  = max(y_train)+1\n",
        "print(num_classes)"
      ],
      "metadata": {
        "colab": {
          "base_uri": "https://localhost:8080/"
        },
        "id": "_BH4ha72yCR7",
        "outputId": "bbf039c8-172d-4d37-f2f8-6c47222752b0"
      },
      "execution_count": null,
      "outputs": [
        {
          "output_type": "stream",
          "name": "stdout",
          "text": [
            "46\n"
          ]
        }
      ]
    },
    {
      "cell_type": "code",
      "source": [
        "from keras.preprocessing.text import Tokenizer\n",
        "\n",
        "max_words = 10000"
      ],
      "metadata": {
        "id": "Rxa2NCoBxVzh"
      },
      "execution_count": null,
      "outputs": []
    },
    {
      "cell_type": "code",
      "source": [
        "tokenizer = Tokenizer(num_words=max_words)\n",
        "x_train = tokenizer.sequences_to_matrix(x_train, mode='binary')\n",
        "x_test = tokenizer.sequences_to_matrix(x_test, mode='binary')"
      ],
      "metadata": {
        "id": "GNR2fPtQwBTb"
      },
      "execution_count": null,
      "outputs": []
    },
    {
      "cell_type": "code",
      "source": [
        "y_train  = tf.keras.utils.to_categorical(y_train, num_classes)\n",
        "y_test  = tf.keras.utils.to_categorical(y_test, num_classes)"
      ],
      "metadata": {
        "id": "oAmc5DkSxV4P"
      },
      "execution_count": null,
      "outputs": []
    },
    {
      "cell_type": "code",
      "source": [
        "print(x_train[0])\n",
        "print(len(x_train[0]))\n",
        "print(max(x_train[0]))"
      ],
      "metadata": {
        "colab": {
          "base_uri": "https://localhost:8080/"
        },
        "id": "GAF8iueQyuzZ",
        "outputId": "b88de798-e4e2-45b0-efdf-04b8017c17c7"
      },
      "execution_count": null,
      "outputs": [
        {
          "output_type": "stream",
          "name": "stdout",
          "text": [
            "[0. 1. 0. ... 0. 0. 0.]\n",
            "10000\n",
            "1.0\n"
          ]
        }
      ]
    },
    {
      "cell_type": "code",
      "source": [
        "from keras.models import Sequential\n",
        "from keras.layers import Dense, Dropout, Activation"
      ],
      "metadata": {
        "id": "XkCR2jUowBUM"
      },
      "execution_count": null,
      "outputs": []
    },
    {
      "cell_type": "code",
      "source": [
        "model = Sequential()\n",
        "model.add(Dense(512, input_shape=(max_words,)))\n",
        "model.add(Activation('relu'))\n",
        "model.add(Dropout(0.5))\n",
        "model.add(Dense(num_classes))\n",
        "model.add(Activation('softmax'))"
      ],
      "metadata": {
        "id": "Mkcm9El3wBX3"
      },
      "execution_count": null,
      "outputs": []
    },
    {
      "cell_type": "code",
      "source": [
        "model.compile(loss='categorical_crossentropy', optimizer = 'adam',metrics = ['accuracy'])"
      ],
      "metadata": {
        "id": "ni5D94-FwBYm"
      },
      "execution_count": null,
      "outputs": []
    },
    {
      "cell_type": "code",
      "source": [
        "batch_size = 32\n",
        "epochs=10"
      ],
      "metadata": {
        "id": "I26ogSojwBdE"
      },
      "execution_count": null,
      "outputs": []
    },
    {
      "cell_type": "code",
      "source": [
        "history = model.fit(x_train, y_train, batch_size=batch_size, epochs=epochs, verbose=1, validation_split=0.1)\n",
        "score= model.evaluate(x_test, y_test, batch_size=batch_size, verbose=1)\n",
        "print('Test loss: ', score[0])\n",
        "print('Test accuracy: ',score[1])"
      ],
      "metadata": {
        "colab": {
          "base_uri": "https://localhost:8080/"
        },
        "id": "V8NBed7E02gr",
        "outputId": "d7d1cbd1-2ab5-4cfb-81c6-2a589f50ad0d"
      },
      "execution_count": null,
      "outputs": [
        {
          "output_type": "stream",
          "name": "stdout",
          "text": [
            "Epoch 1/10\n",
            "253/253 [==============================] - 8s 32ms/step - loss: 0.1671 - accuracy: 0.9587 - val_loss: 0.6376 - val_accuracy: 0.8721\n",
            "Epoch 2/10\n",
            "253/253 [==============================] - 8s 32ms/step - loss: 0.1755 - accuracy: 0.9608 - val_loss: 0.6579 - val_accuracy: 0.8710\n",
            "Epoch 3/10\n",
            "253/253 [==============================] - 8s 31ms/step - loss: 0.1625 - accuracy: 0.9581 - val_loss: 0.6529 - val_accuracy: 0.8665\n",
            "Epoch 4/10\n",
            "253/253 [==============================] - 8s 32ms/step - loss: 0.1683 - accuracy: 0.9597 - val_loss: 0.6685 - val_accuracy: 0.8732\n",
            "Epoch 5/10\n",
            "253/253 [==============================] - 8s 32ms/step - loss: 0.1725 - accuracy: 0.9581 - val_loss: 0.7031 - val_accuracy: 0.8665\n",
            "Epoch 6/10\n",
            "253/253 [==============================] - 8s 32ms/step - loss: 0.1871 - accuracy: 0.9588 - val_loss: 0.7037 - val_accuracy: 0.8654\n",
            "Epoch 7/10\n",
            "253/253 [==============================] - 8s 32ms/step - loss: 0.1598 - accuracy: 0.9600 - val_loss: 0.7675 - val_accuracy: 0.8598\n",
            "Epoch 8/10\n",
            "253/253 [==============================] - 8s 31ms/step - loss: 0.1444 - accuracy: 0.9603 - val_loss: 0.7364 - val_accuracy: 0.8610\n",
            "Epoch 9/10\n",
            "253/253 [==============================] - 8s 32ms/step - loss: 0.1508 - accuracy: 0.9600 - val_loss: 0.7631 - val_accuracy: 0.8665\n",
            "Epoch 10/10\n",
            "253/253 [==============================] - 8s 31ms/step - loss: 0.1604 - accuracy: 0.9595 - val_loss: 0.7971 - val_accuracy: 0.8554\n",
            "71/71 [==============================] - 1s 10ms/step - loss: 1.2263 - accuracy: 0.7947\n",
            "Test loss:  1.2262769937515259\n",
            "Test accuracy:  0.7947462201118469\n"
          ]
        }
      ]
    },
    {
      "cell_type": "markdown",
      "source": [
        "mode= count"
      ],
      "metadata": {
        "id": "KmWqxJgi2qMG"
      }
    },
    {
      "cell_type": "code",
      "source": [
        "(x_train, y_train), (x_test, y_test) = reuters.load_data(num_words=None, test_split=0.2)"
      ],
      "metadata": {
        "id": "_axdO2463a8n"
      },
      "execution_count": null,
      "outputs": []
    },
    {
      "cell_type": "code",
      "source": [
        "print(len(x_train))\n",
        "print(len(x_test))"
      ],
      "metadata": {
        "colab": {
          "base_uri": "https://localhost:8080/"
        },
        "outputId": "38dbcf2a-7e06-4790-9462-90eaad3d1e66",
        "id": "giej2jey3a8o"
      },
      "execution_count": null,
      "outputs": [
        {
          "output_type": "stream",
          "name": "stdout",
          "text": [
            "8982\n",
            "2246\n"
          ]
        }
      ]
    },
    {
      "cell_type": "code",
      "source": [
        "num_classes  = max(y_train)+1\n",
        "print(num_classes)"
      ],
      "metadata": {
        "colab": {
          "base_uri": "https://localhost:8080/"
        },
        "outputId": "8af7f7b5-d382-45bc-db9e-d34ba577bcf9",
        "id": "FDkPMyqR3a8p"
      },
      "execution_count": null,
      "outputs": [
        {
          "output_type": "stream",
          "name": "stdout",
          "text": [
            "46\n"
          ]
        }
      ]
    },
    {
      "cell_type": "code",
      "source": [
        "from keras.preprocessing.text import Tokenizer\n",
        "\n",
        "max_words = 10000"
      ],
      "metadata": {
        "id": "y0MKvdrX3a8q"
      },
      "execution_count": null,
      "outputs": []
    },
    {
      "cell_type": "code",
      "source": [
        "tokenizer = Tokenizer(num_words=max_words)\n",
        "x_train = tokenizer.sequences_to_matrix(x_train, mode='count')\n",
        "x_test = tokenizer.sequences_to_matrix(x_test, mode='count')"
      ],
      "metadata": {
        "id": "-x8H9Ppj247x"
      },
      "execution_count": null,
      "outputs": []
    },
    {
      "cell_type": "code",
      "source": [
        "y_train  = tf.keras.utils.to_categorical(y_train, num_classes)\n",
        "y_test  = tf.keras.utils.to_categorical(y_test, num_classes)"
      ],
      "metadata": {
        "id": "46A-FL4E247y"
      },
      "execution_count": null,
      "outputs": []
    },
    {
      "cell_type": "code",
      "source": [
        "print(x_train[0])\n",
        "print(len(x_train[0]))\n",
        "print(max(x_train[0]))"
      ],
      "metadata": {
        "colab": {
          "base_uri": "https://localhost:8080/"
        },
        "outputId": "d4ec2f61-93bf-489e-b7cc-ee5714976d92",
        "id": "nJP2uPJz247z"
      },
      "execution_count": null,
      "outputs": [
        {
          "output_type": "stream",
          "name": "stdout",
          "text": [
            "[0. 1. 0. ... 0. 0. 0.]\n",
            "10000\n",
            "6.0\n"
          ]
        }
      ]
    },
    {
      "cell_type": "code",
      "source": [
        "model = Sequential()\n",
        "model.add(Dense(512, input_shape=(max_words,)))\n",
        "model.add(Activation('relu'))\n",
        "model.add(Dropout(0.5))\n",
        "model.add(Dense(num_classes))\n",
        "model.add(Activation('softmax'))"
      ],
      "metadata": {
        "id": "MWJiajGm247z"
      },
      "execution_count": null,
      "outputs": []
    },
    {
      "cell_type": "code",
      "source": [
        "model.compile(loss='categorical_crossentropy', optimizer = 'adam',metrics = ['accuracy'])"
      ],
      "metadata": {
        "id": "jpzSkIlA247z"
      },
      "execution_count": null,
      "outputs": []
    },
    {
      "cell_type": "code",
      "source": [
        "batch_size = 32\n",
        "epochs=10"
      ],
      "metadata": {
        "id": "T-_mWV2A247z"
      },
      "execution_count": null,
      "outputs": []
    },
    {
      "cell_type": "code",
      "source": [
        "history = model.fit(x_train, y_train, batch_size=batch_size, epochs=epochs, verbose=1, validation_split=0.1)\n",
        "score= model.evaluate(x_test, y_test, batch_size=batch_size, verbose=1)\n",
        "print('Test loss: ', score[0])\n",
        "print('Test accuracy: ',score[1])"
      ],
      "metadata": {
        "colab": {
          "base_uri": "https://localhost:8080/"
        },
        "outputId": "9755c170-1407-442f-d8af-d62d2490e059",
        "id": "a5G19lF-247z"
      },
      "execution_count": null,
      "outputs": [
        {
          "output_type": "stream",
          "name": "stdout",
          "text": [
            "Epoch 1/10\n",
            "253/253 [==============================] - 9s 34ms/step - loss: 1.3190 - accuracy: 0.7268 - val_loss: 0.9700 - val_accuracy: 0.8076\n",
            "Epoch 2/10\n",
            "253/253 [==============================] - 8s 31ms/step - loss: 0.5651 - accuracy: 0.8768 - val_loss: 0.8869 - val_accuracy: 0.8320\n",
            "Epoch 3/10\n",
            "253/253 [==============================] - 8s 31ms/step - loss: 0.3396 - accuracy: 0.9239 - val_loss: 0.9255 - val_accuracy: 0.8220\n",
            "Epoch 4/10\n",
            "253/253 [==============================] - 8s 31ms/step - loss: 0.2657 - accuracy: 0.9393 - val_loss: 0.9710 - val_accuracy: 0.8209\n",
            "Epoch 5/10\n",
            "253/253 [==============================] - 9s 36ms/step - loss: 0.2393 - accuracy: 0.9478 - val_loss: 1.0259 - val_accuracy: 0.8076\n",
            "Epoch 6/10\n",
            "253/253 [==============================] - 8s 33ms/step - loss: 0.2303 - accuracy: 0.9480 - val_loss: 1.0559 - val_accuracy: 0.8031\n",
            "Epoch 7/10\n",
            "253/253 [==============================] - 9s 36ms/step - loss: 0.2071 - accuracy: 0.9537 - val_loss: 1.1310 - val_accuracy: 0.8076\n",
            "Epoch 8/10\n",
            "253/253 [==============================] - 8s 31ms/step - loss: 0.2118 - accuracy: 0.9525 - val_loss: 1.1099 - val_accuracy: 0.8131\n",
            "Epoch 9/10\n",
            "253/253 [==============================] - 8s 31ms/step - loss: 0.1989 - accuracy: 0.9561 - val_loss: 1.2199 - val_accuracy: 0.8131\n",
            "Epoch 10/10\n",
            "253/253 [==============================] - 8s 31ms/step - loss: 0.2015 - accuracy: 0.9555 - val_loss: 1.2172 - val_accuracy: 0.8042\n",
            "71/71 [==============================] - 1s 10ms/step - loss: 1.1738 - accuracy: 0.8050\n",
            "Test loss:  1.1738089323043823\n",
            "Test accuracy:  0.8049866557121277\n"
          ]
        }
      ]
    },
    {
      "cell_type": "markdown",
      "source": [
        "mode= freq"
      ],
      "metadata": {
        "id": "-0XwDqx23vpj"
      }
    },
    {
      "cell_type": "code",
      "source": [
        "(x_train, y_train), (x_test, y_test) = reuters.load_data(num_words=None, test_split=0.2)"
      ],
      "metadata": {
        "id": "KKXK0WRE3xk9"
      },
      "execution_count": null,
      "outputs": []
    },
    {
      "cell_type": "code",
      "source": [
        "print(len(x_train))\n",
        "print(len(x_test))"
      ],
      "metadata": {
        "colab": {
          "base_uri": "https://localhost:8080/"
        },
        "outputId": "cd69da18-c148-416f-cd23-7fdbb5fe47fc",
        "id": "zYexvl4u3xk-"
      },
      "execution_count": null,
      "outputs": [
        {
          "output_type": "stream",
          "name": "stdout",
          "text": [
            "8982\n",
            "2246\n"
          ]
        }
      ]
    },
    {
      "cell_type": "code",
      "source": [
        "num_classes  = max(y_train)+1\n",
        "print(num_classes)"
      ],
      "metadata": {
        "colab": {
          "base_uri": "https://localhost:8080/"
        },
        "outputId": "65815ced-deb6-4fcd-ecff-54613337b962",
        "id": "tBp1pMbE3xk_"
      },
      "execution_count": null,
      "outputs": [
        {
          "output_type": "stream",
          "name": "stdout",
          "text": [
            "46\n"
          ]
        }
      ]
    },
    {
      "cell_type": "code",
      "source": [
        "from keras.preprocessing.text import Tokenizer\n",
        "\n",
        "max_words = 10000"
      ],
      "metadata": {
        "id": "52Aindml3xlA"
      },
      "execution_count": null,
      "outputs": []
    },
    {
      "cell_type": "code",
      "source": [
        "tokenizer = Tokenizer(num_words=max_words)\n",
        "x_train = tokenizer.sequences_to_matrix(x_train, mode='freq')\n",
        "x_test = tokenizer.sequences_to_matrix(x_test, mode='freq')"
      ],
      "metadata": {
        "id": "O7lg2nPe4vaQ"
      },
      "execution_count": null,
      "outputs": []
    },
    {
      "cell_type": "code",
      "source": [
        "y_train  = tf.keras.utils.to_categorical(y_train, num_classes)\n",
        "y_test  = tf.keras.utils.to_categorical(y_test, num_classes)"
      ],
      "metadata": {
        "id": "5ebv0pjs4vaQ"
      },
      "execution_count": null,
      "outputs": []
    },
    {
      "cell_type": "code",
      "source": [
        "print(x_train[0])\n",
        "print(len(x_train[0]))\n",
        "print(max(x_train[0]))"
      ],
      "metadata": {
        "colab": {
          "base_uri": "https://localhost:8080/"
        },
        "outputId": "623fe0e6-8164-4b94-e902-236b792ad7ac",
        "id": "ybJjK1Tp4vaQ"
      },
      "execution_count": null,
      "outputs": [
        {
          "output_type": "stream",
          "name": "stdout",
          "text": [
            "[0.         0.01149425 0.         ... 0.         0.         0.        ]\n",
            "10000\n",
            "0.06896551724137931\n"
          ]
        }
      ]
    },
    {
      "cell_type": "code",
      "source": [
        "model = Sequential()\n",
        "model.add(Dense(512, input_shape=(max_words,)))\n",
        "model.add(Activation('relu'))\n",
        "model.add(Dropout(0.5))\n",
        "model.add(Dense(num_classes))\n",
        "model.add(Activation('softmax'))"
      ],
      "metadata": {
        "id": "OoDpkn3T4vaR"
      },
      "execution_count": null,
      "outputs": []
    },
    {
      "cell_type": "code",
      "source": [
        "model.compile(loss='categorical_crossentropy', optimizer = 'adam',metrics = ['accuracy'])"
      ],
      "metadata": {
        "id": "UWa3Lw8Q4vaR"
      },
      "execution_count": null,
      "outputs": []
    },
    {
      "cell_type": "code",
      "source": [
        "batch_size = 32\n",
        "epochs=10"
      ],
      "metadata": {
        "id": "QkDPB0iw4vaR"
      },
      "execution_count": null,
      "outputs": []
    },
    {
      "cell_type": "code",
      "source": [
        "history = model.fit(x_train, y_train, batch_size=batch_size, epochs=epochs, verbose=1, validation_split=0.1)\n",
        "score= model.evaluate(x_test, y_test, batch_size=batch_size, verbose=1)\n",
        "print('Test loss: ', score[0])\n",
        "print('Test accuracy: ',score[1])"
      ],
      "metadata": {
        "colab": {
          "base_uri": "https://localhost:8080/"
        },
        "outputId": "17ca5800-d34d-474e-bac7-5952e0852ce2",
        "id": "60BJuK4x4vaS"
      },
      "execution_count": null,
      "outputs": [
        {
          "output_type": "stream",
          "name": "stdout",
          "text": [
            "Epoch 1/10\n",
            "253/253 [==============================] - 9s 36ms/step - loss: 2.3339 - accuracy: 0.4407 - val_loss: 1.9165 - val_accuracy: 0.5006\n",
            "Epoch 2/10\n",
            "253/253 [==============================] - 9s 35ms/step - loss: 1.7323 - accuracy: 0.5479 - val_loss: 1.6483 - val_accuracy: 0.6162\n",
            "Epoch 3/10\n",
            "253/253 [==============================] - 8s 31ms/step - loss: 1.4921 - accuracy: 0.6580 - val_loss: 1.4602 - val_accuracy: 0.6952\n",
            "Epoch 4/10\n",
            "253/253 [==============================] - 8s 31ms/step - loss: 1.3111 - accuracy: 0.7048 - val_loss: 1.3288 - val_accuracy: 0.7086\n",
            "Epoch 5/10\n",
            "253/253 [==============================] - 8s 33ms/step - loss: 1.1659 - accuracy: 0.7262 - val_loss: 1.2310 - val_accuracy: 0.7197\n",
            "Epoch 6/10\n",
            "253/253 [==============================] - 8s 32ms/step - loss: 1.0492 - accuracy: 0.7544 - val_loss: 1.1587 - val_accuracy: 0.7397\n",
            "Epoch 7/10\n",
            "253/253 [==============================] - 8s 31ms/step - loss: 0.9507 - accuracy: 0.7840 - val_loss: 1.1004 - val_accuracy: 0.7508\n",
            "Epoch 8/10\n",
            "253/253 [==============================] - 8s 31ms/step - loss: 0.8673 - accuracy: 0.7997 - val_loss: 1.0491 - val_accuracy: 0.7642\n",
            "Epoch 9/10\n",
            "253/253 [==============================] - 9s 36ms/step - loss: 0.7966 - accuracy: 0.8142 - val_loss: 0.9996 - val_accuracy: 0.7753\n",
            "Epoch 10/10\n",
            "253/253 [==============================] - 8s 31ms/step - loss: 0.7329 - accuracy: 0.8280 - val_loss: 0.9664 - val_accuracy: 0.7820\n",
            "71/71 [==============================] - 1s 10ms/step - loss: 0.9382 - accuracy: 0.7796\n",
            "Test loss:  0.9382143616676331\n",
            "Test accuracy:  0.7796081900596619\n"
          ]
        }
      ]
    },
    {
      "cell_type": "markdown",
      "source": [
        "mode = tfidf"
      ],
      "metadata": {
        "id": "uluxhoIC5qUP"
      }
    },
    {
      "cell_type": "code",
      "source": [
        "(x_train, y_train), (x_test, y_test) = reuters.load_data(num_words=None, test_split=0.2)"
      ],
      "metadata": {
        "id": "B1X1mqgY6DIt"
      },
      "execution_count": null,
      "outputs": []
    },
    {
      "cell_type": "code",
      "source": [
        "print(len(x_train))\n",
        "print(len(x_test))"
      ],
      "metadata": {
        "colab": {
          "base_uri": "https://localhost:8080/"
        },
        "outputId": "5a87a8ae-8e47-4250-db09-1f86249d870f",
        "id": "yRq7m2D_6DJC"
      },
      "execution_count": null,
      "outputs": [
        {
          "output_type": "stream",
          "name": "stdout",
          "text": [
            "8982\n",
            "2246\n"
          ]
        }
      ]
    },
    {
      "cell_type": "code",
      "source": [
        "num_classes  = max(y_train)+1\n",
        "print(num_classes)"
      ],
      "metadata": {
        "colab": {
          "base_uri": "https://localhost:8080/"
        },
        "outputId": "797ba92f-7294-42d8-a240-7ed108e557ba",
        "id": "j6Ro7Qct6DJD"
      },
      "execution_count": null,
      "outputs": [
        {
          "output_type": "stream",
          "name": "stdout",
          "text": [
            "46\n"
          ]
        }
      ]
    },
    {
      "cell_type": "code",
      "source": [
        "from keras.preprocessing.text import Tokenizer\n",
        "\n",
        "max_words = 10000"
      ],
      "metadata": {
        "id": "4wOpUfNg6DJD"
      },
      "execution_count": null,
      "outputs": []
    },
    {
      "cell_type": "code",
      "source": [
        "tokenizer = Tokenizer(num_words=max_words)\n",
        "tokenizer.fit_on_sequences(x_train)\n",
        "x_train = tokenizer.sequences_to_matrix(x_train, mode='tfidf')\n",
        "x_test = tokenizer.sequences_to_matrix(x_test, mode='tfidf')"
      ],
      "metadata": {
        "id": "4ZRCM-M65yH0"
      },
      "execution_count": null,
      "outputs": []
    },
    {
      "cell_type": "code",
      "source": [
        "y_train  = tf.keras.utils.to_categorical(y_train, num_classes)\n",
        "y_test  = tf.keras.utils.to_categorical(y_test, num_classes)"
      ],
      "metadata": {
        "id": "BAHBN0Qc5yH2"
      },
      "execution_count": null,
      "outputs": []
    },
    {
      "cell_type": "code",
      "source": [
        "print(x_train[0])\n",
        "print(len(x_train[0]))\n",
        "print(max(x_train[0]))"
      ],
      "metadata": {
        "colab": {
          "base_uri": "https://localhost:8080/"
        },
        "outputId": "4ad8514c-ede2-46ed-d0c2-7103fc394845",
        "id": "_d6X4Rrw5yH3"
      },
      "execution_count": null,
      "outputs": [
        {
          "output_type": "stream",
          "name": "stdout",
          "text": [
            "[0.         0.69309152 0.         ... 0.         0.         0.        ]\n",
            "10000\n",
            "6.214608098422191\n"
          ]
        }
      ]
    },
    {
      "cell_type": "code",
      "source": [
        "model = Sequential()\n",
        "model.add(Dense(512, input_shape=(max_words,)))\n",
        "model.add(Activation('relu'))\n",
        "model.add(Dropout(0.5))\n",
        "model.add(Dense(num_classes))\n",
        "model.add(Activation('softmax'))"
      ],
      "metadata": {
        "id": "8rbSAeGk5yH4"
      },
      "execution_count": null,
      "outputs": []
    },
    {
      "cell_type": "code",
      "source": [
        "model.compile(loss='categorical_crossentropy', optimizer = 'adam',metrics = ['accuracy'])"
      ],
      "metadata": {
        "id": "SrsJnTjF5yH4"
      },
      "execution_count": null,
      "outputs": []
    },
    {
      "cell_type": "code",
      "source": [
        "batch_size = 32\n",
        "epochs=10"
      ],
      "metadata": {
        "id": "enDNdpDy5yH5"
      },
      "execution_count": null,
      "outputs": []
    },
    {
      "cell_type": "code",
      "source": [
        "history = model.fit(x_train, y_train, batch_size=batch_size, epochs=epochs, verbose=1, validation_split=0.1)\n",
        "score= model.evaluate(x_test, y_test, batch_size=batch_size, verbose=1)\n",
        "print('Test loss: ', score[0])\n",
        "print('Test accuracy: ',score[1])"
      ],
      "metadata": {
        "colab": {
          "base_uri": "https://localhost:8080/"
        },
        "outputId": "13b87cfa-dfdd-4b0c-d17b-636f89fcf61d",
        "id": "7EqBTccu5yH6"
      },
      "execution_count": null,
      "outputs": [
        {
          "output_type": "stream",
          "name": "stdout",
          "text": [
            "Epoch 1/10\n",
            "253/253 [==============================] - 8s 32ms/step - loss: 1.2482 - accuracy: 0.7515 - val_loss: 0.9282 - val_accuracy: 0.8276\n",
            "Epoch 2/10\n",
            "253/253 [==============================] - 8s 31ms/step - loss: 0.4316 - accuracy: 0.9135 - val_loss: 1.0230 - val_accuracy: 0.8120\n",
            "Epoch 3/10\n",
            "253/253 [==============================] - 8s 31ms/step - loss: 0.3168 - accuracy: 0.9446 - val_loss: 1.0962 - val_accuracy: 0.8042\n",
            "Epoch 4/10\n",
            "253/253 [==============================] - 8s 31ms/step - loss: 0.3132 - accuracy: 0.9521 - val_loss: 1.2915 - val_accuracy: 0.7887\n",
            "Epoch 5/10\n",
            "253/253 [==============================] - 8s 31ms/step - loss: 0.3022 - accuracy: 0.9562 - val_loss: 1.3058 - val_accuracy: 0.7964\n",
            "Epoch 6/10\n",
            "253/253 [==============================] - 8s 31ms/step - loss: 0.3003 - accuracy: 0.9543 - val_loss: 1.3437 - val_accuracy: 0.7953\n",
            "Epoch 7/10\n",
            "253/253 [==============================] - 8s 31ms/step - loss: 0.3122 - accuracy: 0.9511 - val_loss: 1.3901 - val_accuracy: 0.7909\n",
            "Epoch 8/10\n",
            "253/253 [==============================] - 8s 31ms/step - loss: 0.3697 - accuracy: 0.9555 - val_loss: 1.3440 - val_accuracy: 0.7898\n",
            "Epoch 9/10\n",
            "253/253 [==============================] - 8s 31ms/step - loss: 0.2890 - accuracy: 0.9578 - val_loss: 1.4262 - val_accuracy: 0.7920\n",
            "Epoch 10/10\n",
            "253/253 [==============================] - 8s 31ms/step - loss: 0.3531 - accuracy: 0.9551 - val_loss: 1.4746 - val_accuracy: 0.8031\n",
            "71/71 [==============================] - 1s 10ms/step - loss: 1.4837 - accuracy: 0.7881\n",
            "Test loss:  1.4836547374725342\n",
            "Test accuracy:  0.7880676984786987\n"
          ]
        }
      ]
    },
    {
      "cell_type": "markdown",
      "source": [
        "#### Real time data"
      ],
      "metadata": {
        "id": "w_s7z8zP-uaL"
      }
    },
    {
      "cell_type": "markdown",
      "source": [
        ""
      ],
      "metadata": {
        "id": "xYfGaBsJnMKU"
      }
    },
    {
      "cell_type": "code",
      "source": [
        "import keras\n",
        "import numpy as np\n",
        "import pandas as pd\n",
        "import tensorflow as tf"
      ],
      "metadata": {
        "id": "jYQ5fuSH_ixu"
      },
      "execution_count": null,
      "outputs": []
    },
    {
      "cell_type": "code",
      "source": [
        "df = pd.read_csv(\"/content/drive/MyDrive/NLP/IMDB Dataset.csv\")\n",
        "df.head()"
      ],
      "metadata": {
        "colab": {
          "base_uri": "https://localhost:8080/",
          "height": 206
        },
        "id": "Z_wQfMIY_kXe",
        "outputId": "805d5efb-b0eb-49ca-a064-48800c996f16"
      },
      "execution_count": null,
      "outputs": [
        {
          "output_type": "execute_result",
          "data": {
            "text/plain": [
              "                                              review sentiment\n",
              "0  One of the other reviewers has mentioned that ...  positive\n",
              "1  A wonderful little production. <br /><br />The...  positive\n",
              "2  I thought this was a wonderful way to spend ti...  positive\n",
              "3  Basically there's a family where a little boy ...  negative\n",
              "4  Petter Mattei's \"Love in the Time of Money\" is...  positive"
            ],
            "text/html": [
              "\n",
              "  <div id=\"df-03076044-039b-49ea-8050-9d85741bd504\">\n",
              "    <div class=\"colab-df-container\">\n",
              "      <div>\n",
              "<style scoped>\n",
              "    .dataframe tbody tr th:only-of-type {\n",
              "        vertical-align: middle;\n",
              "    }\n",
              "\n",
              "    .dataframe tbody tr th {\n",
              "        vertical-align: top;\n",
              "    }\n",
              "\n",
              "    .dataframe thead th {\n",
              "        text-align: right;\n",
              "    }\n",
              "</style>\n",
              "<table border=\"1\" class=\"dataframe\">\n",
              "  <thead>\n",
              "    <tr style=\"text-align: right;\">\n",
              "      <th></th>\n",
              "      <th>review</th>\n",
              "      <th>sentiment</th>\n",
              "    </tr>\n",
              "  </thead>\n",
              "  <tbody>\n",
              "    <tr>\n",
              "      <th>0</th>\n",
              "      <td>One of the other reviewers has mentioned that ...</td>\n",
              "      <td>positive</td>\n",
              "    </tr>\n",
              "    <tr>\n",
              "      <th>1</th>\n",
              "      <td>A wonderful little production. &lt;br /&gt;&lt;br /&gt;The...</td>\n",
              "      <td>positive</td>\n",
              "    </tr>\n",
              "    <tr>\n",
              "      <th>2</th>\n",
              "      <td>I thought this was a wonderful way to spend ti...</td>\n",
              "      <td>positive</td>\n",
              "    </tr>\n",
              "    <tr>\n",
              "      <th>3</th>\n",
              "      <td>Basically there's a family where a little boy ...</td>\n",
              "      <td>negative</td>\n",
              "    </tr>\n",
              "    <tr>\n",
              "      <th>4</th>\n",
              "      <td>Petter Mattei's \"Love in the Time of Money\" is...</td>\n",
              "      <td>positive</td>\n",
              "    </tr>\n",
              "  </tbody>\n",
              "</table>\n",
              "</div>\n",
              "      <button class=\"colab-df-convert\" onclick=\"convertToInteractive('df-03076044-039b-49ea-8050-9d85741bd504')\"\n",
              "              title=\"Convert this dataframe to an interactive table.\"\n",
              "              style=\"display:none;\">\n",
              "        \n",
              "  <svg xmlns=\"http://www.w3.org/2000/svg\" height=\"24px\"viewBox=\"0 0 24 24\"\n",
              "       width=\"24px\">\n",
              "    <path d=\"M0 0h24v24H0V0z\" fill=\"none\"/>\n",
              "    <path d=\"M18.56 5.44l.94 2.06.94-2.06 2.06-.94-2.06-.94-.94-2.06-.94 2.06-2.06.94zm-11 1L8.5 8.5l.94-2.06 2.06-.94-2.06-.94L8.5 2.5l-.94 2.06-2.06.94zm10 10l.94 2.06.94-2.06 2.06-.94-2.06-.94-.94-2.06-.94 2.06-2.06.94z\"/><path d=\"M17.41 7.96l-1.37-1.37c-.4-.4-.92-.59-1.43-.59-.52 0-1.04.2-1.43.59L10.3 9.45l-7.72 7.72c-.78.78-.78 2.05 0 2.83L4 21.41c.39.39.9.59 1.41.59.51 0 1.02-.2 1.41-.59l7.78-7.78 2.81-2.81c.8-.78.8-2.07 0-2.86zM5.41 20L4 18.59l7.72-7.72 1.47 1.35L5.41 20z\"/>\n",
              "  </svg>\n",
              "      </button>\n",
              "      \n",
              "  <style>\n",
              "    .colab-df-container {\n",
              "      display:flex;\n",
              "      flex-wrap:wrap;\n",
              "      gap: 12px;\n",
              "    }\n",
              "\n",
              "    .colab-df-convert {\n",
              "      background-color: #E8F0FE;\n",
              "      border: none;\n",
              "      border-radius: 50%;\n",
              "      cursor: pointer;\n",
              "      display: none;\n",
              "      fill: #1967D2;\n",
              "      height: 32px;\n",
              "      padding: 0 0 0 0;\n",
              "      width: 32px;\n",
              "    }\n",
              "\n",
              "    .colab-df-convert:hover {\n",
              "      background-color: #E2EBFA;\n",
              "      box-shadow: 0px 1px 2px rgba(60, 64, 67, 0.3), 0px 1px 3px 1px rgba(60, 64, 67, 0.15);\n",
              "      fill: #174EA6;\n",
              "    }\n",
              "\n",
              "    [theme=dark] .colab-df-convert {\n",
              "      background-color: #3B4455;\n",
              "      fill: #D2E3FC;\n",
              "    }\n",
              "\n",
              "    [theme=dark] .colab-df-convert:hover {\n",
              "      background-color: #434B5C;\n",
              "      box-shadow: 0px 1px 3px 1px rgba(0, 0, 0, 0.15);\n",
              "      filter: drop-shadow(0px 1px 2px rgba(0, 0, 0, 0.3));\n",
              "      fill: #FFFFFF;\n",
              "    }\n",
              "  </style>\n",
              "\n",
              "      <script>\n",
              "        const buttonEl =\n",
              "          document.querySelector('#df-03076044-039b-49ea-8050-9d85741bd504 button.colab-df-convert');\n",
              "        buttonEl.style.display =\n",
              "          google.colab.kernel.accessAllowed ? 'block' : 'none';\n",
              "\n",
              "        async function convertToInteractive(key) {\n",
              "          const element = document.querySelector('#df-03076044-039b-49ea-8050-9d85741bd504');\n",
              "          const dataTable =\n",
              "            await google.colab.kernel.invokeFunction('convertToInteractive',\n",
              "                                                     [key], {});\n",
              "          if (!dataTable) return;\n",
              "\n",
              "          const docLinkHtml = 'Like what you see? Visit the ' +\n",
              "            '<a target=\"_blank\" href=https://colab.research.google.com/notebooks/data_table.ipynb>data table notebook</a>'\n",
              "            + ' to learn more about interactive tables.';\n",
              "          element.innerHTML = '';\n",
              "          dataTable['output_type'] = 'display_data';\n",
              "          await google.colab.output.renderOutput(dataTable, element);\n",
              "          const docLink = document.createElement('div');\n",
              "          docLink.innerHTML = docLinkHtml;\n",
              "          element.appendChild(docLink);\n",
              "        }\n",
              "      </script>\n",
              "    </div>\n",
              "  </div>\n",
              "  "
            ]
          },
          "metadata": {},
          "execution_count": 27
        }
      ]
    },
    {
      "cell_type": "code",
      "source": [
        "(x_train, y_train), (x_test, y_test) = reuters.load_data(num_words=None, test_split=0.2)"
      ],
      "metadata": {
        "colab": {
          "base_uri": "https://localhost:8080/"
        },
        "outputId": "f50c21e1-4c32-46d8-e1d3-47fedb0b5f1a",
        "id": "ELkW1Pny_ixx"
      },
      "execution_count": null,
      "outputs": [
        {
          "output_type": "stream",
          "name": "stdout",
          "text": [
            "Downloading data from https://storage.googleapis.com/tensorflow/tf-keras-datasets/reuters.npz\n",
            "2113536/2110848 [==============================] - 0s 0us/step\n",
            "2121728/2110848 [==============================] - 0s 0us/step\n"
          ]
        }
      ]
    },
    {
      "cell_type": "code",
      "source": [
        "print(len(x_train))\n",
        "print(len(x_test))"
      ],
      "metadata": {
        "colab": {
          "base_uri": "https://localhost:8080/"
        },
        "outputId": "a22fc0ad-4593-4732-f952-6391f0b77402",
        "id": "nkpFwElZ_ixy"
      },
      "execution_count": null,
      "outputs": [
        {
          "output_type": "stream",
          "name": "stdout",
          "text": [
            "8982\n",
            "2246\n"
          ]
        }
      ]
    },
    {
      "cell_type": "code",
      "source": [
        "num_classes  = max(y_train)+1\n",
        "print(num_classes)"
      ],
      "metadata": {
        "colab": {
          "base_uri": "https://localhost:8080/"
        },
        "outputId": "bbf039c8-172d-4d37-f2f8-6c47222752b0",
        "id": "ebud6wbZ_ixy"
      },
      "execution_count": null,
      "outputs": [
        {
          "output_type": "stream",
          "name": "stdout",
          "text": [
            "46\n"
          ]
        }
      ]
    },
    {
      "cell_type": "code",
      "source": [
        "from keras.preprocessing.text import Tokenizer\n",
        "\n",
        "max_words = 10000"
      ],
      "metadata": {
        "id": "61RONtux_ixy"
      },
      "execution_count": null,
      "outputs": []
    },
    {
      "cell_type": "code",
      "source": [
        "tokenizer = Tokenizer(num_words=max_words)\n",
        "x_train = tokenizer.sequences_to_matrix(x_train, mode='binary')\n",
        "x_test = tokenizer.sequences_to_matrix(x_test, mode='binary')"
      ],
      "metadata": {
        "id": "Hmu1vhWS_ixz"
      },
      "execution_count": null,
      "outputs": []
    },
    {
      "cell_type": "code",
      "source": [
        "y_train  = tf.keras.utils.to_categorical(y_train, num_classes)\n",
        "y_test  = tf.keras.utils.to_categorical(y_test, num_classes)"
      ],
      "metadata": {
        "id": "1fnMgXCa_ixz"
      },
      "execution_count": null,
      "outputs": []
    },
    {
      "cell_type": "code",
      "source": [
        "print(x_train[0])\n",
        "print(len(x_train[0]))\n",
        "print(max(x_train[0]))"
      ],
      "metadata": {
        "colab": {
          "base_uri": "https://localhost:8080/"
        },
        "outputId": "b88de798-e4e2-45b0-efdf-04b8017c17c7",
        "id": "PcnepZO2_ixz"
      },
      "execution_count": null,
      "outputs": [
        {
          "output_type": "stream",
          "name": "stdout",
          "text": [
            "[0. 1. 0. ... 0. 0. 0.]\n",
            "10000\n",
            "1.0\n"
          ]
        }
      ]
    },
    {
      "cell_type": "code",
      "source": [
        "from keras.models import Sequential\n",
        "from keras.layers import Dense, Dropout, Activation"
      ],
      "metadata": {
        "id": "7VlFjSxg_ixz"
      },
      "execution_count": null,
      "outputs": []
    },
    {
      "cell_type": "code",
      "source": [
        "model = Sequential()\n",
        "model.add(Dense(512, input_shape=(max_words,)))\n",
        "model.add(Activation('relu'))\n",
        "model.add(Dropout(0.5))\n",
        "model.add(Dense(num_classes))\n",
        "model.add(Activation('softmax'))"
      ],
      "metadata": {
        "id": "9qGI-3OP_ixz"
      },
      "execution_count": null,
      "outputs": []
    },
    {
      "cell_type": "code",
      "source": [
        "model.compile(loss='categorical_crossentropy', optimizer = 'adam',metrics = ['accuracy'])"
      ],
      "metadata": {
        "id": "YvVRwBi6_ix0"
      },
      "execution_count": null,
      "outputs": []
    },
    {
      "cell_type": "code",
      "source": [
        "batch_size = 32\n",
        "epochs=10"
      ],
      "metadata": {
        "id": "v2Jva7u0_ix0"
      },
      "execution_count": null,
      "outputs": []
    },
    {
      "cell_type": "code",
      "source": [
        "history = model.fit(x_train, y_train, batch_size=batch_size, epochs=epochs, verbose=1, validation_split=0.1)\n",
        "score= model.evaluate(x_test, y_test, batch_size=batch_size, verbose=1)\n",
        "print('Test loss: ', score[0])\n",
        "print('Test accuracy: ',score[1])"
      ],
      "metadata": {
        "colab": {
          "base_uri": "https://localhost:8080/"
        },
        "outputId": "d7d1cbd1-2ab5-4cfb-81c6-2a589f50ad0d",
        "id": "ItKTaYBV_ix0"
      },
      "execution_count": null,
      "outputs": [
        {
          "output_type": "stream",
          "name": "stdout",
          "text": [
            "Epoch 1/10\n",
            "253/253 [==============================] - 8s 32ms/step - loss: 0.1671 - accuracy: 0.9587 - val_loss: 0.6376 - val_accuracy: 0.8721\n",
            "Epoch 2/10\n",
            "253/253 [==============================] - 8s 32ms/step - loss: 0.1755 - accuracy: 0.9608 - val_loss: 0.6579 - val_accuracy: 0.8710\n",
            "Epoch 3/10\n",
            "253/253 [==============================] - 8s 31ms/step - loss: 0.1625 - accuracy: 0.9581 - val_loss: 0.6529 - val_accuracy: 0.8665\n",
            "Epoch 4/10\n",
            "253/253 [==============================] - 8s 32ms/step - loss: 0.1683 - accuracy: 0.9597 - val_loss: 0.6685 - val_accuracy: 0.8732\n",
            "Epoch 5/10\n",
            "253/253 [==============================] - 8s 32ms/step - loss: 0.1725 - accuracy: 0.9581 - val_loss: 0.7031 - val_accuracy: 0.8665\n",
            "Epoch 6/10\n",
            "253/253 [==============================] - 8s 32ms/step - loss: 0.1871 - accuracy: 0.9588 - val_loss: 0.7037 - val_accuracy: 0.8654\n",
            "Epoch 7/10\n",
            "253/253 [==============================] - 8s 32ms/step - loss: 0.1598 - accuracy: 0.9600 - val_loss: 0.7675 - val_accuracy: 0.8598\n",
            "Epoch 8/10\n",
            "253/253 [==============================] - 8s 31ms/step - loss: 0.1444 - accuracy: 0.9603 - val_loss: 0.7364 - val_accuracy: 0.8610\n",
            "Epoch 9/10\n",
            "253/253 [==============================] - 8s 32ms/step - loss: 0.1508 - accuracy: 0.9600 - val_loss: 0.7631 - val_accuracy: 0.8665\n",
            "Epoch 10/10\n",
            "253/253 [==============================] - 8s 31ms/step - loss: 0.1604 - accuracy: 0.9595 - val_loss: 0.7971 - val_accuracy: 0.8554\n",
            "71/71 [==============================] - 1s 10ms/step - loss: 1.2263 - accuracy: 0.7947\n",
            "Test loss:  1.2262769937515259\n",
            "Test accuracy:  0.7947462201118469\n"
          ]
        }
      ]
    },
    {
      "cell_type": "code",
      "source": [
        ""
      ],
      "metadata": {
        "id": "9FCndNgG5tE5"
      },
      "execution_count": null,
      "outputs": []
    },
    {
      "cell_type": "markdown",
      "source": [
        "18-03-2022"
      ],
      "metadata": {
        "id": "YM8c7a4JnNpz"
      }
    },
    {
      "cell_type": "code",
      "source": [
        "from google.colab import drive\n",
        "drive.mount('/content/drive')"
      ],
      "metadata": {
        "colab": {
          "base_uri": "https://localhost:8080/"
        },
        "id": "I8Jq16aEnR2R",
        "outputId": "fbdc345b-c1e6-44af-ddfa-6388824d30bf"
      },
      "execution_count": null,
      "outputs": [
        {
          "output_type": "stream",
          "name": "stdout",
          "text": [
            "Mounted at /content/drive\n"
          ]
        }
      ]
    },
    {
      "cell_type": "code",
      "source": [
        "import pandas as pd"
      ],
      "metadata": {
        "id": "C9uKkMLYn2bF"
      },
      "execution_count": null,
      "outputs": []
    },
    {
      "cell_type": "code",
      "source": [
        "filepath_dir = {'yelp':'/content/drive/MyDrive/NLP/yelp_labelled.txt',\n",
        "                'amazon':'/content/drive/MyDrive/NLP/amazon_cells_labelled.txt',\n",
        "                'imdb':'/content/drive/MyDrive/NLP/imdb_labelled.txt'}\n",
        "data_list = []\n",
        "for source, filepath in filepath_dir.items():\n",
        "  data = pd.read_csv(filepath, names=['sentence','label'], sep='\\t')\n",
        "  data['source'] = source\n",
        "  data_list.append(data)\n",
        "data = pd.concat(data_list)\n",
        "data"
      ],
      "metadata": {
        "colab": {
          "base_uri": "https://localhost:8080/",
          "height": 423
        },
        "id": "KO5RfhTtn2b7",
        "outputId": "56576dd5-6574-4919-e8b1-63dba7196ddd"
      },
      "execution_count": null,
      "outputs": [
        {
          "output_type": "execute_result",
          "data": {
            "text/plain": [
              "                                              sentence  label source\n",
              "0                             Wow... Loved this place.      1   yelp\n",
              "1                                   Crust is not good.      0   yelp\n",
              "2            Not tasty and the texture was just nasty.      0   yelp\n",
              "3    Stopped by during the late May bank holiday of...      1   yelp\n",
              "4    The selection on the menu was great and so wer...      1   yelp\n",
              "..                                                 ...    ...    ...\n",
              "743  I just got bored watching Jessice Lange take h...      0   imdb\n",
              "744  Unfortunately, any virtue in this film's produ...      0   imdb\n",
              "745                   In a word, it is embarrassing.        0   imdb\n",
              "746                               Exceptionally bad!        0   imdb\n",
              "747  All in all its an insult to one's intelligence...      0   imdb\n",
              "\n",
              "[2748 rows x 3 columns]"
            ],
            "text/html": [
              "\n",
              "  <div id=\"df-51355601-8cba-404a-baef-4f1e8bd15104\">\n",
              "    <div class=\"colab-df-container\">\n",
              "      <div>\n",
              "<style scoped>\n",
              "    .dataframe tbody tr th:only-of-type {\n",
              "        vertical-align: middle;\n",
              "    }\n",
              "\n",
              "    .dataframe tbody tr th {\n",
              "        vertical-align: top;\n",
              "    }\n",
              "\n",
              "    .dataframe thead th {\n",
              "        text-align: right;\n",
              "    }\n",
              "</style>\n",
              "<table border=\"1\" class=\"dataframe\">\n",
              "  <thead>\n",
              "    <tr style=\"text-align: right;\">\n",
              "      <th></th>\n",
              "      <th>sentence</th>\n",
              "      <th>label</th>\n",
              "      <th>source</th>\n",
              "    </tr>\n",
              "  </thead>\n",
              "  <tbody>\n",
              "    <tr>\n",
              "      <th>0</th>\n",
              "      <td>Wow... Loved this place.</td>\n",
              "      <td>1</td>\n",
              "      <td>yelp</td>\n",
              "    </tr>\n",
              "    <tr>\n",
              "      <th>1</th>\n",
              "      <td>Crust is not good.</td>\n",
              "      <td>0</td>\n",
              "      <td>yelp</td>\n",
              "    </tr>\n",
              "    <tr>\n",
              "      <th>2</th>\n",
              "      <td>Not tasty and the texture was just nasty.</td>\n",
              "      <td>0</td>\n",
              "      <td>yelp</td>\n",
              "    </tr>\n",
              "    <tr>\n",
              "      <th>3</th>\n",
              "      <td>Stopped by during the late May bank holiday of...</td>\n",
              "      <td>1</td>\n",
              "      <td>yelp</td>\n",
              "    </tr>\n",
              "    <tr>\n",
              "      <th>4</th>\n",
              "      <td>The selection on the menu was great and so wer...</td>\n",
              "      <td>1</td>\n",
              "      <td>yelp</td>\n",
              "    </tr>\n",
              "    <tr>\n",
              "      <th>...</th>\n",
              "      <td>...</td>\n",
              "      <td>...</td>\n",
              "      <td>...</td>\n",
              "    </tr>\n",
              "    <tr>\n",
              "      <th>743</th>\n",
              "      <td>I just got bored watching Jessice Lange take h...</td>\n",
              "      <td>0</td>\n",
              "      <td>imdb</td>\n",
              "    </tr>\n",
              "    <tr>\n",
              "      <th>744</th>\n",
              "      <td>Unfortunately, any virtue in this film's produ...</td>\n",
              "      <td>0</td>\n",
              "      <td>imdb</td>\n",
              "    </tr>\n",
              "    <tr>\n",
              "      <th>745</th>\n",
              "      <td>In a word, it is embarrassing.</td>\n",
              "      <td>0</td>\n",
              "      <td>imdb</td>\n",
              "    </tr>\n",
              "    <tr>\n",
              "      <th>746</th>\n",
              "      <td>Exceptionally bad!</td>\n",
              "      <td>0</td>\n",
              "      <td>imdb</td>\n",
              "    </tr>\n",
              "    <tr>\n",
              "      <th>747</th>\n",
              "      <td>All in all its an insult to one's intelligence...</td>\n",
              "      <td>0</td>\n",
              "      <td>imdb</td>\n",
              "    </tr>\n",
              "  </tbody>\n",
              "</table>\n",
              "<p>2748 rows × 3 columns</p>\n",
              "</div>\n",
              "      <button class=\"colab-df-convert\" onclick=\"convertToInteractive('df-51355601-8cba-404a-baef-4f1e8bd15104')\"\n",
              "              title=\"Convert this dataframe to an interactive table.\"\n",
              "              style=\"display:none;\">\n",
              "        \n",
              "  <svg xmlns=\"http://www.w3.org/2000/svg\" height=\"24px\"viewBox=\"0 0 24 24\"\n",
              "       width=\"24px\">\n",
              "    <path d=\"M0 0h24v24H0V0z\" fill=\"none\"/>\n",
              "    <path d=\"M18.56 5.44l.94 2.06.94-2.06 2.06-.94-2.06-.94-.94-2.06-.94 2.06-2.06.94zm-11 1L8.5 8.5l.94-2.06 2.06-.94-2.06-.94L8.5 2.5l-.94 2.06-2.06.94zm10 10l.94 2.06.94-2.06 2.06-.94-2.06-.94-.94-2.06-.94 2.06-2.06.94z\"/><path d=\"M17.41 7.96l-1.37-1.37c-.4-.4-.92-.59-1.43-.59-.52 0-1.04.2-1.43.59L10.3 9.45l-7.72 7.72c-.78.78-.78 2.05 0 2.83L4 21.41c.39.39.9.59 1.41.59.51 0 1.02-.2 1.41-.59l7.78-7.78 2.81-2.81c.8-.78.8-2.07 0-2.86zM5.41 20L4 18.59l7.72-7.72 1.47 1.35L5.41 20z\"/>\n",
              "  </svg>\n",
              "      </button>\n",
              "      \n",
              "  <style>\n",
              "    .colab-df-container {\n",
              "      display:flex;\n",
              "      flex-wrap:wrap;\n",
              "      gap: 12px;\n",
              "    }\n",
              "\n",
              "    .colab-df-convert {\n",
              "      background-color: #E8F0FE;\n",
              "      border: none;\n",
              "      border-radius: 50%;\n",
              "      cursor: pointer;\n",
              "      display: none;\n",
              "      fill: #1967D2;\n",
              "      height: 32px;\n",
              "      padding: 0 0 0 0;\n",
              "      width: 32px;\n",
              "    }\n",
              "\n",
              "    .colab-df-convert:hover {\n",
              "      background-color: #E2EBFA;\n",
              "      box-shadow: 0px 1px 2px rgba(60, 64, 67, 0.3), 0px 1px 3px 1px rgba(60, 64, 67, 0.15);\n",
              "      fill: #174EA6;\n",
              "    }\n",
              "\n",
              "    [theme=dark] .colab-df-convert {\n",
              "      background-color: #3B4455;\n",
              "      fill: #D2E3FC;\n",
              "    }\n",
              "\n",
              "    [theme=dark] .colab-df-convert:hover {\n",
              "      background-color: #434B5C;\n",
              "      box-shadow: 0px 1px 3px 1px rgba(0, 0, 0, 0.15);\n",
              "      filter: drop-shadow(0px 1px 2px rgba(0, 0, 0, 0.3));\n",
              "      fill: #FFFFFF;\n",
              "    }\n",
              "  </style>\n",
              "\n",
              "      <script>\n",
              "        const buttonEl =\n",
              "          document.querySelector('#df-51355601-8cba-404a-baef-4f1e8bd15104 button.colab-df-convert');\n",
              "        buttonEl.style.display =\n",
              "          google.colab.kernel.accessAllowed ? 'block' : 'none';\n",
              "\n",
              "        async function convertToInteractive(key) {\n",
              "          const element = document.querySelector('#df-51355601-8cba-404a-baef-4f1e8bd15104');\n",
              "          const dataTable =\n",
              "            await google.colab.kernel.invokeFunction('convertToInteractive',\n",
              "                                                     [key], {});\n",
              "          if (!dataTable) return;\n",
              "\n",
              "          const docLinkHtml = 'Like what you see? Visit the ' +\n",
              "            '<a target=\"_blank\" href=https://colab.research.google.com/notebooks/data_table.ipynb>data table notebook</a>'\n",
              "            + ' to learn more about interactive tables.';\n",
              "          element.innerHTML = '';\n",
              "          dataTable['output_type'] = 'display_data';\n",
              "          await google.colab.output.renderOutput(dataTable, element);\n",
              "          const docLink = document.createElement('div');\n",
              "          docLink.innerHTML = docLinkHtml;\n",
              "          element.appendChild(docLink);\n",
              "        }\n",
              "      </script>\n",
              "    </div>\n",
              "  </div>\n",
              "  "
            ]
          },
          "metadata": {},
          "execution_count": 7
        }
      ]
    },
    {
      "cell_type": "code",
      "source": [
        "from sklearn.model_selection import train_test_split\n",
        "review = data['sentence'].values\n",
        "label = data['label'].values\n",
        "review_train, review_test, label_train, label_test = train_test_split(review, label, test_size=0.25, random_state=1000)"
      ],
      "metadata": {
        "id": "IzTMJNWSn2f2"
      },
      "execution_count": null,
      "outputs": []
    },
    {
      "cell_type": "code",
      "source": [
        "from keras.preprocessing.text import Tokenizer\n",
        "\n",
        "tokenizer = Tokenizer(num_words=5000)\n",
        "tokenizer.fit_on_texts(review_train)\n",
        "Xcnn_train = tokenizer.texts_to_sequences(review_train)\n",
        "Xcnn_test = tokenizer.texts_to_sequences(review_test)\n",
        "vocab_size = len(tokenizer.word_index)+1\n",
        "print(review_train[1])\n",
        "print(Xcnn_train[1])"
      ],
      "metadata": {
        "colab": {
          "base_uri": "https://localhost:8080/"
        },
        "id": "bBzEEEmln2g4",
        "outputId": "d90e1a7a-0829-4f0b-eb71-a72b42c29c48"
      },
      "execution_count": null,
      "outputs": [
        {
          "output_type": "stream",
          "name": "stdout",
          "text": [
            "There was a warm feeling with the service and I felt like their guest for a special treat.\n",
            "[43, 10, 4, 607, 323, 15, 1, 47, 2, 3, 350, 37, 109, 1908, 12, 4, 279, 1236]\n"
          ]
        }
      ]
    },
    {
      "cell_type": "code",
      "source": [
        "from keras.preprocessing.sequence import pad_sequences\n",
        "maxlen=100\n",
        "Xcnn_train = pad_sequences(Xcnn_train, padding='post',maxlen = maxlen)\n",
        "Xcnn_test = pad_sequences(Xcnn_test, padding='post',maxlen = maxlen)\n",
        "print(Xcnn_train[0,:])"
      ],
      "metadata": {
        "colab": {
          "base_uri": "https://localhost:8080/"
        },
        "id": "wWWzhJnDn2kD",
        "outputId": "1ee881a3-0792-4f28-b842-68928144e748"
      },
      "execution_count": null,
      "outputs": [
        {
          "output_type": "stream",
          "name": "stdout",
          "text": [
            "[ 278  295  212 1907   39  349    0    0    0    0    0    0    0    0\n",
            "    0    0    0    0    0    0    0    0    0    0    0    0    0    0\n",
            "    0    0    0    0    0    0    0    0    0    0    0    0    0    0\n",
            "    0    0    0    0    0    0    0    0    0    0    0    0    0    0\n",
            "    0    0    0    0    0    0    0    0    0    0    0    0    0    0\n",
            "    0    0    0    0    0    0    0    0    0    0    0    0    0    0\n",
            "    0    0    0    0    0    0    0    0    0    0    0    0    0    0\n",
            "    0    0]\n"
          ]
        }
      ]
    },
    {
      "cell_type": "code",
      "source": [
        "from keras.models import Sequential\n",
        "from keras import layers"
      ],
      "metadata": {
        "id": "dHefifDin2lH"
      },
      "execution_count": null,
      "outputs": []
    },
    {
      "cell_type": "code",
      "source": [
        "embedding_dim = 200\n",
        "textcnnmodel = Sequential()\n",
        "textcnnmodel.add(layers.Embedding(vocab_size, embedding_dim, input_length = maxlen))\n",
        "textcnnmodel.add(layers.Conv1D(128, 5, activation='relu'))\n",
        "textcnnmodel.add(layers.GlobalMaxPooling1D())\n",
        "textcnnmodel.add(layers.Dense(10, activation='relu'))\n",
        "textcnnmodel.add(layers.Dense(1, activation='sigmoid'))\n",
        "textcnnmodel.compile(optimizer='adam',\n",
        "                     loss='binary_crossentropy',\n",
        "                     metrics = ['accuracy'])\n",
        "textcnnmodel.summary()"
      ],
      "metadata": {
        "colab": {
          "base_uri": "https://localhost:8080/"
        },
        "id": "NkU1cPZrn2og",
        "outputId": "0991abcc-76f9-47d1-f797-84167ef55550"
      },
      "execution_count": null,
      "outputs": [
        {
          "output_type": "stream",
          "name": "stdout",
          "text": [
            "Model: \"sequential_3\"\n",
            "_________________________________________________________________\n",
            " Layer (type)                Output Shape              Param #   \n",
            "=================================================================\n",
            " embedding_3 (Embedding)     (None, 100, 200)          920600    \n",
            "                                                                 \n",
            " conv1d_3 (Conv1D)           (None, 96, 128)           128128    \n",
            "                                                                 \n",
            " global_max_pooling1d_3 (Glo  (None, 128)              0         \n",
            " balMaxPooling1D)                                                \n",
            "                                                                 \n",
            " dense_4 (Dense)             (None, 10)                1290      \n",
            "                                                                 \n",
            " dense_5 (Dense)             (None, 1)                 11        \n",
            "                                                                 \n",
            "=================================================================\n",
            "Total params: 1,050,029\n",
            "Trainable params: 1,050,029\n",
            "Non-trainable params: 0\n",
            "_________________________________________________________________\n"
          ]
        }
      ]
    },
    {
      "cell_type": "code",
      "source": [
        "textcnnmodel.fit(Xcnn_train, label_train,\n",
        "                 epochs=10,\n",
        "                 verbose=True,\n",
        "                 validation_data=(Xcnn_test, label_test),\n",
        "                 batch_size=10)\n",
        "loss, accuracy = textcnnmodel.evaluate(Xcnn_train, label_train, verbose = True)\n",
        "print(\"Training accuracy: \", accuracy)\n",
        "loss, accuracy = textcnnmodel.evaluate(Xcnn_test, label_test, verbose = True)\n",
        "print(\"Training accuracy: \", accuracy)"
      ],
      "metadata": {
        "colab": {
          "base_uri": "https://localhost:8080/"
        },
        "id": "cT_uc4PQn2pV",
        "outputId": "5fa99066-3867-45af-e2cd-b2a692316dfa"
      },
      "execution_count": null,
      "outputs": [
        {
          "output_type": "stream",
          "name": "stdout",
          "text": [
            "Epoch 1/10\n",
            "207/207 [==============================] - 7s 34ms/step - loss: 0.0014 - accuracy: 1.0000 - val_loss: 0.5415 - val_accuracy: 0.8486\n",
            "Epoch 2/10\n",
            "207/207 [==============================] - 8s 40ms/step - loss: 7.8297e-04 - accuracy: 1.0000 - val_loss: 0.5661 - val_accuracy: 0.8443\n",
            "Epoch 3/10\n",
            "207/207 [==============================] - 8s 38ms/step - loss: 5.1158e-04 - accuracy: 1.0000 - val_loss: 0.5858 - val_accuracy: 0.8457\n",
            "Epoch 4/10\n",
            "207/207 [==============================] - 7s 34ms/step - loss: 3.7125e-04 - accuracy: 1.0000 - val_loss: 0.6035 - val_accuracy: 0.8413\n",
            "Epoch 5/10\n",
            "207/207 [==============================] - 7s 35ms/step - loss: 2.8236e-04 - accuracy: 1.0000 - val_loss: 0.6197 - val_accuracy: 0.8413\n",
            "Epoch 6/10\n",
            "207/207 [==============================] - 7s 35ms/step - loss: 2.2010e-04 - accuracy: 1.0000 - val_loss: 0.6333 - val_accuracy: 0.8428\n",
            "Epoch 7/10\n",
            "207/207 [==============================] - 7s 34ms/step - loss: 1.7500e-04 - accuracy: 1.0000 - val_loss: 0.6475 - val_accuracy: 0.8428\n",
            "Epoch 8/10\n",
            "207/207 [==============================] - 7s 34ms/step - loss: 1.4163e-04 - accuracy: 1.0000 - val_loss: 0.6601 - val_accuracy: 0.8428\n",
            "Epoch 9/10\n",
            "207/207 [==============================] - 7s 34ms/step - loss: 1.1610e-04 - accuracy: 1.0000 - val_loss: 0.6726 - val_accuracy: 0.8413\n",
            "Epoch 10/10\n",
            "207/207 [==============================] - 7s 34ms/step - loss: 9.5851e-05 - accuracy: 1.0000 - val_loss: 0.6843 - val_accuracy: 0.8413\n",
            "65/65 [==============================] - 1s 17ms/step - loss: 8.3279e-05 - accuracy: 1.0000\n",
            "Training accuracy:  1.0\n",
            "22/22 [==============================] - 0s 17ms/step - loss: 0.6843 - accuracy: 0.8413\n",
            "Training accuracy:  0.8413391709327698\n"
          ]
        }
      ]
    }
  ]
}