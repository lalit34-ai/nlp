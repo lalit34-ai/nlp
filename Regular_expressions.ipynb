{
  "nbformat": 4,
  "nbformat_minor": 0,
  "metadata": {
    "colab": {
      "name": "Regular expressions.ipynb",
      "provenance": [],
      "collapsed_sections": []
    },
    "kernelspec": {
      "name": "python3",
      "display_name": "Python 3"
    },
    "language_info": {
      "name": "python"
    }
  },
  "cells": [
    {
      "cell_type": "markdown",
      "source": [
        "####27-01-2022 "
      ],
      "metadata": {
        "id": "EGDKoCsjBFvX"
      }
    },
    {
      "cell_type": "code",
      "execution_count": null,
      "metadata": {
        "id": "ICqy8kov56Z8"
      },
      "outputs": [],
      "source": [
        "import re"
      ]
    },
    {
      "cell_type": "code",
      "source": [
        "#match 'data' followed by a whitespace char followed by \n",
        "#atleat one alphanumeric char followed bby whitespace char.\n",
        "regex = \"data\\s\\w+\\s\"\n",
        "matched = re.match(regex,\"18CSC412 data science\")\n",
        "print(matched)"
      ],
      "metadata": {
        "colab": {
          "base_uri": "https://localhost:8080/"
        },
        "id": "sIu01CVo6x8V",
        "outputId": "9f7e38c9-3298-4498-a459-757946f7bbb7"
      },
      "execution_count": null,
      "outputs": [
        {
          "output_type": "stream",
          "name": "stdout",
          "text": [
            "None\n"
          ]
        }
      ]
    },
    {
      "cell_type": "code",
      "source": [
        "regex=\"data\\w+\"\n",
        "matched=re.match(regex, \"datascience 18CSC412 \")\n",
        "print(matched)"
      ],
      "metadata": {
        "colab": {
          "base_uri": "https://localhost:8080/"
        },
        "id": "3LD7AJ9m6yIV",
        "outputId": "91f3f494-8d3c-411b-fc1a-4039688cba50"
      },
      "execution_count": null,
      "outputs": [
        {
          "output_type": "stream",
          "name": "stdout",
          "text": [
            "<re.Match object; span=(0, 11), match='datascience'>\n"
          ]
        }
      ]
    },
    {
      "cell_type": "code",
      "source": [
        "#tuple containing starting and ending index of the matched string\n",
        "matched.span()"
      ],
      "metadata": {
        "colab": {
          "base_uri": "https://localhost:8080/"
        },
        "id": "C6dNm7T46yK7",
        "outputId": "c0bac6e0-a939-426f-ec14-345d61357e81"
      },
      "execution_count": null,
      "outputs": [
        {
          "output_type": "execute_result",
          "data": {
            "text/plain": [
              "(0, 11)"
            ]
          },
          "metadata": {},
          "execution_count": 24
        }
      ]
    },
    {
      "cell_type": "code",
      "source": [
        "#Complete match \n",
        "matched.group()"
      ],
      "metadata": {
        "colab": {
          "base_uri": "https://localhost:8080/",
          "height": 36
        },
        "id": "vKwm8ET6DXD4",
        "outputId": "2d5122ae-c5ed-440d-df35-e81c888fa784"
      },
      "execution_count": null,
      "outputs": [
        {
          "output_type": "execute_result",
          "data": {
            "application/vnd.google.colaboratory.intrinsic+json": {
              "type": "string"
            },
            "text/plain": [
              "'datascience'"
            ]
          },
          "metadata": {},
          "execution_count": 25
        }
      ]
    },
    {
      "cell_type": "markdown",
      "source": [
        "####28-01-2022"
      ],
      "metadata": {
        "id": "M0tfE7tzdoGX"
      }
    },
    {
      "cell_type": "code",
      "source": [
        "s=\"hello123hello\"\n",
        "re.search('123',s)"
      ],
      "metadata": {
        "colab": {
          "base_uri": "https://localhost:8080/"
        },
        "id": "MNd9mNohdqfX",
        "outputId": "b20060a6-cadd-4638-e9b4-96ceb83ab71c"
      },
      "execution_count": null,
      "outputs": [
        {
          "output_type": "execute_result",
          "data": {
            "text/plain": [
              "<re.Match object; span=(5, 8), match='123'>"
            ]
          },
          "metadata": {},
          "execution_count": 13
        }
      ]
    },
    {
      "cell_type": "code",
      "source": [
        "s='foot123bar'\n",
        "re.search('[0-9][0-9][0-9]',s)"
      ],
      "metadata": {
        "colab": {
          "base_uri": "https://localhost:8080/"
        },
        "id": "9hPyDPHHeMZA",
        "outputId": "5896e9b4-89fd-4dc2-fef0-7ae46f9cd37f"
      },
      "execution_count": null,
      "outputs": [
        {
          "output_type": "execute_result",
          "data": {
            "text/plain": [
              "<re.Match object; span=(4, 7), match='123'>"
            ]
          },
          "metadata": {},
          "execution_count": 14
        }
      ]
    },
    {
      "cell_type": "markdown",
      "source": [
        "[0-9][0-9][0-9] can be also written as \\d\\d\\d"
      ],
      "metadata": {
        "id": "hz4GRjd9fSH0"
      }
    },
    {
      "cell_type": "code",
      "source": [
        "s='foot123bar'\n",
        "re.search('\\d\\d\\d',s)"
      ],
      "metadata": {
        "colab": {
          "base_uri": "https://localhost:8080/"
        },
        "id": "85V-tf_kejwl",
        "outputId": "db7311cf-895a-4df7-a773-b89ef8af7401"
      },
      "execution_count": null,
      "outputs": [
        {
          "output_type": "execute_result",
          "data": {
            "text/plain": [
              "<re.Match object; span=(4, 7), match='123'>"
            ]
          },
          "metadata": {},
          "execution_count": 15
        }
      ]
    },
    {
      "cell_type": "code",
      "source": [
        "re.search('1.3',s)\n",
        "#Since . represents any character, it matchs with 123 in foot123bar as it takes 2 as nay char."
      ],
      "metadata": {
        "colab": {
          "base_uri": "https://localhost:8080/"
        },
        "id": "NlQLD8yEfL3H",
        "outputId": "f7218a14-0d1d-4148-efca-7b8b28b56f2b"
      },
      "execution_count": null,
      "outputs": [
        {
          "output_type": "execute_result",
          "data": {
            "text/plain": [
              "<re.Match object; span=(4, 7), match='123'>"
            ]
          },
          "metadata": {},
          "execution_count": 16
        }
      ]
    },
    {
      "cell_type": "code",
      "source": [
        "s='foot1a3bar'\n",
        "re.search('1.3',s)"
      ],
      "metadata": {
        "colab": {
          "base_uri": "https://localhost:8080/"
        },
        "id": "gW1NOS0Jfno6",
        "outputId": "72349ac7-7a57-4daa-ecea-3b42e03613d9"
      },
      "execution_count": null,
      "outputs": [
        {
          "output_type": "execute_result",
          "data": {
            "text/plain": [
              "<re.Match object; span=(4, 7), match='1a3'>"
            ]
          },
          "metadata": {},
          "execution_count": 17
        }
      ]
    },
    {
      "cell_type": "code",
      "source": [
        "re.search('ba[xt]','baxt')\n",
        "#[xy] --> matches with either x or y"
      ],
      "metadata": {
        "colab": {
          "base_uri": "https://localhost:8080/"
        },
        "id": "9fhzZXkrft7i",
        "outputId": "3886bab9-37dd-4e65-dfa7-a109cbeee5a5"
      },
      "execution_count": null,
      "outputs": [
        {
          "output_type": "execute_result",
          "data": {
            "text/plain": [
              "<re.Match object; span=(0, 3), match='bax'>"
            ]
          },
          "metadata": {},
          "execution_count": 19
        }
      ]
    },
    {
      "cell_type": "code",
      "source": [
        "re.search('[^029]','12345foo')\n",
        "#matches with the first char which is not 0,2 or 9"
      ],
      "metadata": {
        "colab": {
          "base_uri": "https://localhost:8080/"
        },
        "id": "K9gzGWHHgAbt",
        "outputId": "9e79c0a5-35cd-487e-db55-c1bd38676b08"
      },
      "execution_count": null,
      "outputs": [
        {
          "output_type": "execute_result",
          "data": {
            "text/plain": [
              "<re.Match object; span=(0, 1), match='1'>"
            ]
          },
          "metadata": {},
          "execution_count": 20
        }
      ]
    },
    {
      "cell_type": "code",
      "source": [
        "re.search('[#:^]','foo^bar')\n",
        "#matches either #, : or ^"
      ],
      "metadata": {
        "colab": {
          "base_uri": "https://localhost:8080/"
        },
        "id": "auwZi-Vxgaod",
        "outputId": "f6d1b44b-787c-49e0-a84c-634f83084bc4"
      },
      "execution_count": null,
      "outputs": [
        {
          "output_type": "execute_result",
          "data": {
            "text/plain": [
              "<re.Match object; span=(3, 4), match='^'>"
            ]
          },
          "metadata": {},
          "execution_count": 22
        }
      ]
    },
    {
      "cell_type": "markdown",
      "source": [
        "If ^ occurs at the beginning of the char class, it is negation. Else if it is anywhere else in the char class, it just matchs with '^' character."
      ],
      "metadata": {
        "id": "eAbdKuhRgqRe"
      }
    },
    {
      "cell_type": "code",
      "source": [
        "re.search('[]]','foo[1]')"
      ],
      "metadata": {
        "colab": {
          "base_uri": "https://localhost:8080/"
        },
        "id": "EBMAVkbeg6BG",
        "outputId": "922e2d2e-fb03-4912-d852-9859f1416698"
      },
      "execution_count": null,
      "outputs": [
        {
          "output_type": "execute_result",
          "data": {
            "text/plain": [
              "<re.Match object; span=(5, 6), match=']'>"
            ]
          },
          "metadata": {},
          "execution_count": 23
        }
      ]
    },
    {
      "cell_type": "code",
      "source": [
        "re.search('[)*+|]','123*456')\n",
        "#matches with either ), *, +, |"
      ],
      "metadata": {
        "colab": {
          "base_uri": "https://localhost:8080/"
        },
        "id": "mRdIw4nyhL_R",
        "outputId": "ba6f0b15-c5a3-49b5-f01e-8aac85b78c8b"
      },
      "execution_count": null,
      "outputs": [
        {
          "output_type": "execute_result",
          "data": {
            "text/plain": [
              "<re.Match object; span=(3, 4), match='*'>"
            ]
          },
          "metadata": {},
          "execution_count": 24
        }
      ]
    },
    {
      "cell_type": "code",
      "source": [
        "print(re.search('\\w','#(.abc&%'))\n",
        "#\\w: Matches with any alphanumeric character including underscore\n",
        "print(re.search('[a-zA-Z0-9_]','#(.abc&%'))"
      ],
      "metadata": {
        "colab": {
          "base_uri": "https://localhost:8080/"
        },
        "id": "E2CXfb6Mhgkn",
        "outputId": "66b57c80-5d2e-42c4-ed74-326b991c5d0b"
      },
      "execution_count": null,
      "outputs": [
        {
          "output_type": "stream",
          "name": "stdout",
          "text": [
            "<re.Match object; span=(3, 4), match='a'>\n",
            "<re.Match object; span=(3, 4), match='a'>\n"
          ]
        }
      ]
    },
    {
      "cell_type": "markdown",
      "source": [
        "\\w ==> [a-zA-Z0-9_]   \n",
        "\\W ==> [^a-zA-Z0-9_]"
      ],
      "metadata": {
        "id": "Hamn-j0KilUl"
      }
    },
    {
      "cell_type": "code",
      "source": [
        "re.search('[a-zA-Z0-9_]','#(.abc&%')"
      ],
      "metadata": {
        "colab": {
          "base_uri": "https://localhost:8080/"
        },
        "id": "CGTOkcQ_iWKJ",
        "outputId": "b7d36f79-92c4-4922-d1eb-cc90459127a2"
      },
      "execution_count": null,
      "outputs": [
        {
          "output_type": "execute_result",
          "data": {
            "text/plain": [
              "<re.Match object; span=(3, 4), match='a'>"
            ]
          },
          "metadata": {},
          "execution_count": 32
        }
      ]
    },
    {
      "cell_type": "code",
      "source": [
        "re.search('\\s','foo\\nbar baz')"
      ],
      "metadata": {
        "id": "0KWHIduaiuQs",
        "colab": {
          "base_uri": "https://localhost:8080/"
        },
        "outputId": "ecffe42a-21a1-4280-b520-418f5fc72f20"
      },
      "execution_count": null,
      "outputs": [
        {
          "output_type": "execute_result",
          "data": {
            "text/plain": [
              "<re.Match object; span=(3, 4), match='\\n'>"
            ]
          },
          "metadata": {},
          "execution_count": 2
        }
      ]
    },
    {
      "cell_type": "code",
      "source": [
        "re.search('\\S','   f00\\nbar baz')\n",
        "#matches any non whitespace character"
      ],
      "metadata": {
        "colab": {
          "base_uri": "https://localhost:8080/"
        },
        "id": "RQBI6r3DiuTj",
        "outputId": "d5060905-7654-4685-f6e8-1d13e4dc34df"
      },
      "execution_count": null,
      "outputs": [
        {
          "output_type": "execute_result",
          "data": {
            "text/plain": [
              "<re.Match object; span=(3, 4), match='f'>"
            ]
          },
          "metadata": {},
          "execution_count": 40
        }
      ]
    },
    {
      "cell_type": "code",
      "source": [
        "re.search('[\\d\\w\\s]','---3---')"
      ],
      "metadata": {
        "colab": {
          "base_uri": "https://localhost:8080/"
        },
        "id": "ribnq4hRiuVq",
        "outputId": "88ecffa4-f2b9-4b00-af33-bb21b00c7922"
      },
      "execution_count": null,
      "outputs": [
        {
          "output_type": "execute_result",
          "data": {
            "text/plain": [
              "<re.Match object; span=(3, 4), match='3'>"
            ]
          },
          "metadata": {},
          "execution_count": 37
        }
      ]
    },
    {
      "cell_type": "code",
      "source": [
        "re.search('.','foo.bar')\n",
        "# matchs with any character"
      ],
      "metadata": {
        "colab": {
          "base_uri": "https://localhost:8080/"
        },
        "id": "iBxYtoDgiuXz",
        "outputId": "7b5bd467-86b9-4ee3-a5f8-b961819cd940"
      },
      "execution_count": null,
      "outputs": [
        {
          "output_type": "execute_result",
          "data": {
            "text/plain": [
              "<re.Match object; span=(0, 1), match='f'>"
            ]
          },
          "metadata": {},
          "execution_count": 39
        }
      ]
    },
    {
      "cell_type": "code",
      "source": [
        "re.search('\\.','foo.bar')\n",
        "#Matchs with the '.' char"
      ],
      "metadata": {
        "colab": {
          "base_uri": "https://localhost:8080/"
        },
        "id": "VJ3fWiDciz69",
        "outputId": "0f6f0ab1-f92e-48cc-b73d-5b45c675f6e0"
      },
      "execution_count": null,
      "outputs": [
        {
          "output_type": "execute_result",
          "data": {
            "text/plain": [
              "<re.Match object; span=(3, 4), match='.'>"
            ]
          },
          "metadata": {},
          "execution_count": 38
        }
      ]
    },
    {
      "cell_type": "code",
      "source": [
        "print('foo\\tar')#Consider \\t as tab\n",
        "print(r'foo\\tar')#Considers\\tas two characters and prints them as it is."
      ],
      "metadata": {
        "colab": {
          "base_uri": "https://localhost:8080/"
        },
        "id": "djzSnUYljcgm",
        "outputId": "badf41f4-f260-4c3c-d1fe-a6218cececa7"
      },
      "execution_count": null,
      "outputs": [
        {
          "output_type": "stream",
          "name": "stdout",
          "text": [
            "foo\tar\n",
            "foo\\tar\n"
          ]
        }
      ]
    },
    {
      "cell_type": "markdown",
      "source": [
        "[^0-9] : Non digit character   \n",
        "^[0-9] : Start with a digit\n"
      ],
      "metadata": {
        "id": "EkEYu2uPLCRt"
      }
    },
    {
      "cell_type": "code",
      "source": [
        "re.search('[^\"abc\"]','foot')\n",
        "#Matches with any string other that starting with substring 'abc'"
      ],
      "metadata": {
        "id": "Fm6XQ6A7kgiZ",
        "colab": {
          "base_uri": "https://localhost:8080/"
        },
        "outputId": "d981c98f-48b6-4073-a210-b7aecec74d88"
      },
      "execution_count": null,
      "outputs": [
        {
          "output_type": "execute_result",
          "data": {
            "text/plain": [
              "<re.Match object; span=(0, 1), match='f'>"
            ]
          },
          "metadata": {},
          "execution_count": 5
        }
      ]
    },
    {
      "cell_type": "code",
      "source": [
        "re.search(r'\\bbar','foo bar')"
      ],
      "metadata": {
        "colab": {
          "base_uri": "https://localhost:8080/"
        },
        "id": "qNVsTIBnK4eA",
        "outputId": "ec7134c5-fa11-49ad-d741-63ae147d05cb"
      },
      "execution_count": null,
      "outputs": [
        {
          "output_type": "execute_result",
          "data": {
            "text/plain": [
              "<re.Match object; span=(4, 7), match='bar'>"
            ]
          },
          "metadata": {},
          "execution_count": 6
        }
      ]
    },
    {
      "cell_type": "markdown",
      "source": [
        "Quantifiers"
      ],
      "metadata": {
        "id": "4ImlE1TBVSsw"
      }
    },
    {
      "cell_type": "code",
      "source": [
        "print(re.search('foo-*bar','foobar'))\n",
        "print(re.search('foo-*bar','foo---bar'))\n",
        "# * quantifier is applied for - \n",
        "# - can occur 0 or more number of times."
      ],
      "metadata": {
        "colab": {
          "base_uri": "https://localhost:8080/"
        },
        "id": "mzklRHzlK4gi",
        "outputId": "04758556-4e5f-413d-896e-4c6623f5120b"
      },
      "execution_count": null,
      "outputs": [
        {
          "output_type": "stream",
          "name": "stdout",
          "text": [
            "<re.Match object; span=(0, 6), match='foobar'>\n",
            "<re.Match object; span=(0, 9), match='foo---bar'>\n"
          ]
        }
      ]
    },
    {
      "cell_type": "code",
      "source": [
        "re.search('foo.*bar','foohell&&lobar')\n",
        "#any character other than \\n can occur zero or more number of times."
      ],
      "metadata": {
        "colab": {
          "base_uri": "https://localhost:8080/"
        },
        "id": "oulAHFKXK354",
        "outputId": "509736b3-4deb-4e36-955f-32fcfdefeaed"
      },
      "execution_count": null,
      "outputs": [
        {
          "output_type": "execute_result",
          "data": {
            "text/plain": [
              "<re.Match object; span=(0, 14), match='foohell&&lobar'>"
            ]
          },
          "metadata": {},
          "execution_count": 9
        }
      ]
    },
    {
      "cell_type": "code",
      "source": [
        "print(re.search('foo-?bar','foo-bar'))\n",
        "print(re.search('foo-?bar','foobar'))\n",
        "print(re.search('foo-?bar','foo---bar'))\n",
        "#matches with zero or one ocurance of - character"
      ],
      "metadata": {
        "colab": {
          "base_uri": "https://localhost:8080/"
        },
        "id": "ftxNXHrJK38A",
        "outputId": "5f369e9c-ac80-48ae-9ab3-fadc5e9e93b0"
      },
      "execution_count": null,
      "outputs": [
        {
          "output_type": "stream",
          "name": "stdout",
          "text": [
            "<re.Match object; span=(0, 7), match='foo-bar'>\n",
            "<re.Match object; span=(0, 6), match='foobar'>\n",
            "None\n"
          ]
        }
      ]
    },
    {
      "cell_type": "code",
      "source": [
        "re.search('foo\\d+bar','foo9bar')"
      ],
      "metadata": {
        "colab": {
          "base_uri": "https://localhost:8080/"
        },
        "id": "iUIYgUHqWvDf",
        "outputId": "549fe048-6b26-41b2-9fd0-c63a30a1fd4a"
      },
      "execution_count": null,
      "outputs": [
        {
          "output_type": "execute_result",
          "data": {
            "text/plain": [
              "<re.Match object; span=(0, 7), match='foo9bar'>"
            ]
          },
          "metadata": {},
          "execution_count": 12
        }
      ]
    },
    {
      "cell_type": "code",
      "source": [
        "re.search('foo[1-9]+bar','foo4bar')"
      ],
      "metadata": {
        "colab": {
          "base_uri": "https://localhost:8080/"
        },
        "id": "VD9Am0D6WvGM",
        "outputId": "f2e88380-585a-40e6-d9d4-58d8b1fee9f4"
      },
      "execution_count": null,
      "outputs": [
        {
          "output_type": "execute_result",
          "data": {
            "text/plain": [
              "<re.Match object; span=(0, 7), match='foo4bar'>"
            ]
          },
          "metadata": {},
          "execution_count": 13
        }
      ]
    },
    {
      "cell_type": "code",
      "source": [
        "print(re.search('<.*>','%<foo> <bar> <baz>%'))\n",
        "#\n",
        "\n",
        "print(re.search('<.*?>','%<foo> <bar> <baz>%'))"
      ],
      "metadata": {
        "colab": {
          "base_uri": "https://localhost:8080/"
        },
        "id": "SVeh-YnuWvIl",
        "outputId": "d55eb43d-f9fc-4b3c-dd25-0029d7bb2fe2"
      },
      "execution_count": null,
      "outputs": [
        {
          "output_type": "stream",
          "name": "stdout",
          "text": [
            "<re.Match object; span=(1, 18), match='<foo> <bar> <baz>'>\n",
            "<re.Match object; span=(1, 6), match='<foo>'>\n"
          ]
        }
      ]
    },
    {
      "cell_type": "markdown",
      "source": [
        "####01-02-2022"
      ],
      "metadata": {
        "id": "SkLD4Y6gm3gm"
      }
    },
    {
      "cell_type": "code",
      "source": [
        "import re\n",
        "res = re.findall(r\"\\b\\w{5}\\b\",\"Jessa and Kelly\")\n",
        "print(res)"
      ],
      "metadata": {
        "id": "yYbbA7BwK3-2",
        "colab": {
          "base_uri": "https://localhost:8080/"
        },
        "outputId": "e7f7cc10-3d3a-48c7-d2f7-c5ebc332a719"
      },
      "execution_count": null,
      "outputs": [
        {
          "output_type": "stream",
          "name": "stdout",
          "text": [
            "['Jessa', 'Kelly']\n"
          ]
        }
      ]
    },
    {
      "cell_type": "code",
      "source": [
        "target_string = \"Emma is a basketball player who was born on June 17, 1993. She played 112 matches with scoring average 26.12 points per game. Her weight is 51 kg.\"\n",
        "result = re.findall(r\"\\d+\",target_string)\n",
        "print(result)"
      ],
      "metadata": {
        "id": "NMcfGZGcK4BN",
        "colab": {
          "base_uri": "https://localhost:8080/"
        },
        "outputId": "c74343f2-73c3-48af-9718-e161ab46c92b"
      },
      "execution_count": null,
      "outputs": [
        {
          "output_type": "stream",
          "name": "stdout",
          "text": [
            "['17', '1993', '112', '26', '12', '51']\n"
          ]
        }
      ]
    },
    {
      "cell_type": "code",
      "source": [
        "x = re.search(r\"\\d+\",target_string)\n",
        "print(x)"
      ],
      "metadata": {
        "id": "4qPu3A9MK4Ds",
        "colab": {
          "base_uri": "https://localhost:8080/"
        },
        "outputId": "abe9b95b-4b66-4ee5-b169-e54defbcc663"
      },
      "execution_count": null,
      "outputs": [
        {
          "output_type": "stream",
          "name": "stdout",
          "text": [
            "<re.Match object; span=(49, 51), match='17'>\n"
          ]
        }
      ]
    },
    {
      "cell_type": "code",
      "source": [
        "result = re.finditer(r\"\\d+\",target_string)\n",
        "for match in result:\n",
        "  print(match.group())"
      ],
      "metadata": {
        "colab": {
          "base_uri": "https://localhost:8080/"
        },
        "id": "0DIx4X5FpmFy",
        "outputId": "2ddde94d-41c8-4193-d309-0f0dc80287ec"
      },
      "execution_count": null,
      "outputs": [
        {
          "output_type": "stream",
          "name": "stdout",
          "text": [
            "17\n",
            "1993\n",
            "112\n",
            "26\n",
            "12\n",
            "51\n"
          ]
        }
      ]
    },
    {
      "cell_type": "code",
      "source": [
        "target_string = \"Jessa is a Python developer. She also gives Python programming training\"\n",
        "res = re.findall(r\"\\b[pP]\\w+\",target_string)\n",
        "print(res)"
      ],
      "metadata": {
        "colab": {
          "base_uri": "https://localhost:8080/"
        },
        "id": "p89qIOnBpmIX",
        "outputId": "18fa945a-eae8-438a-b19a-7b3a6fe3d2ad"
      },
      "execution_count": null,
      "outputs": [
        {
          "output_type": "stream",
          "name": "stdout",
          "text": [
            "['Python', 'Python', 'programming']\n"
          ]
        }
      ]
    },
    {
      "cell_type": "code",
      "source": [
        "r = re.findall(r\"\\b[pt]\\w+[g]\",target_string)\n",
        "print(r)"
      ],
      "metadata": {
        "colab": {
          "base_uri": "https://localhost:8080/"
        },
        "id": "AtSjzcpnpmKu",
        "outputId": "016553f6-c749-441b-a321-4585f3ecbe66"
      },
      "execution_count": null,
      "outputs": [
        {
          "output_type": "stream",
          "name": "stdout",
          "text": [
            "['programming', 'training']\n"
          ]
        }
      ]
    },
    {
      "cell_type": "code",
      "source": [
        "string = \"banana apple orange\"\n",
        "r = re.findall(r\"\\b[aA]\\w+|\\w+[aA]\\b\",string)\n",
        "print(r)"
      ],
      "metadata": {
        "colab": {
          "base_uri": "https://localhost:8080/"
        },
        "id": "DqXZMHW4pmNQ",
        "outputId": "b8ce5dc4-a2fb-4b9e-eb9d-431854a831d6"
      },
      "execution_count": null,
      "outputs": [
        {
          "output_type": "stream",
          "name": "stdout",
          "text": [
            "['banana', 'apple']\n"
          ]
        }
      ]
    },
    {
      "cell_type": "code",
      "source": [
        "n = \"1234567890\"\n",
        "r = re.findall(r\"\\d{10}\",n)\n",
        "print(r)"
      ],
      "metadata": {
        "colab": {
          "base_uri": "https://localhost:8080/"
        },
        "id": "t6-j0MyFpmPm",
        "outputId": "9c71a9a8-2a49-4876-9baa-f3de479da511"
      },
      "execution_count": null,
      "outputs": [
        {
          "output_type": "stream",
          "name": "stdout",
          "text": [
            "['1234567890']\n"
          ]
        }
      ]
    },
    {
      "cell_type": "code",
      "source": [
        "n = \"(123)-567-8912\"\n",
        "r = re.findall(r\"\\(\\d{3}\\)-\\d{3}-\\d{4}\",n)\n",
        "print(r)"
      ],
      "metadata": {
        "colab": {
          "base_uri": "https://localhost:8080/"
        },
        "id": "fotaW-X8pmSQ",
        "outputId": "34e7bdf5-9539-4054-9da1-76d89924950c"
      },
      "execution_count": null,
      "outputs": [
        {
          "output_type": "stream",
          "name": "stdout",
          "text": [
            "['(123)-567-8912']\n"
          ]
        }
      ]
    },
    {
      "cell_type": "code",
      "source": [
        "string = \"+91 7510797789, 917510797789, 7510797789\"\n",
        "result = re.findall(r\"\\+91\\s\\d{10}|91\\d{10}|\\d{10}\",string)\n",
        "print(result)"
      ],
      "metadata": {
        "colab": {
          "base_uri": "https://localhost:8080/"
        },
        "id": "l7BrrOqqpmVC",
        "outputId": "98c2a262-9dd3-4087-da2e-639b841b6273"
      },
      "execution_count": null,
      "outputs": [
        {
          "output_type": "stream",
          "name": "stdout",
          "text": [
            "['+91 7510797789', '917510797789', '7510797789']\n"
          ]
        }
      ]
    },
    {
      "cell_type": "code",
      "source": [
        "pattern = 'aba'\n",
        "string = 'ababaiiaba'\n",
        "result = re.findall(pattern, string)\n",
        "print(result)"
      ],
      "metadata": {
        "colab": {
          "base_uri": "https://localhost:8080/"
        },
        "id": "87OHKv-9XoN0",
        "outputId": "2b022805-e45c-4140-daa2-36f61d13d0d6"
      },
      "execution_count": null,
      "outputs": [
        {
          "output_type": "stream",
          "name": "stdout",
          "text": [
            "['aba', 'aba']\n"
          ]
        }
      ]
    },
    {
      "cell_type": "markdown",
      "source": [
        "re.A: match with only ASCI characters   \n",
        "re.I: match with case insensitive charaters   \n",
        "re.M or re.MULTILINE:    \n",
        "re.S or re.DOTALL: match with all, even with newline character   "
      ],
      "metadata": {
        "id": "pkDdr0iAYBKJ"
      }
    },
    {
      "cell_type": "code",
      "source": [
        "string=\"python Python\"\n",
        "result = re.findall(r\"\\b[p]\\w+\\b\", string)\n",
        "print(result)\n",
        "result = re.findall(r\"\\b[p]\\w+\\b\", string, re.I)\n",
        "print(result)\n"
      ],
      "metadata": {
        "colab": {
          "base_uri": "https://localhost:8080/"
        },
        "id": "CHSEDkDRYkEo",
        "outputId": "b50b5873-e8a1-4735-f059-c62d92b59a06"
      },
      "execution_count": null,
      "outputs": [
        {
          "output_type": "stream",
          "name": "stdout",
          "text": [
            "['python']\n",
            "['python', 'Python']\n"
          ]
        }
      ]
    },
    {
      "cell_type": "code",
      "source": [
        "tstr = \"ML\\nand AI\"\n",
        "result = re.findall(r\".+\",tstr)\n",
        "print(result)\n",
        "result = re.findall(r\".+\",tstr,re.DOTALL)\n",
        "print(result)"
      ],
      "metadata": {
        "colab": {
          "base_uri": "https://localhost:8080/"
        },
        "id": "tBrsz4ZSY3Sq",
        "outputId": "19ebc83e-b064-4fb3-d8b5-7a48a6f4b556"
      },
      "execution_count": null,
      "outputs": [
        {
          "output_type": "stream",
          "name": "stdout",
          "text": [
            "['ML', 'and AI']\n",
            "['ML\\nand AI']\n"
          ]
        }
      ]
    },
    {
      "cell_type": "markdown",
      "source": [
        "#### 01-02-2022 LAB"
      ],
      "metadata": {
        "id": "wyg0psVOZXmD"
      }
    },
    {
      "cell_type": "markdown",
      "source": [
        "Groups"
      ],
      "metadata": {
        "id": "Ssf7wvotkc6Q"
      }
    },
    {
      "cell_type": "code",
      "source": [
        "import re\n",
        "string = 'John has 6 cats but I think my friend Susan has 3 dogs and Mike has 8 fishes'\n",
        "result = re.findall(r\"\\b[A-Za-z]+ \\w+ \\d+ \\w+\",string)\n",
        "print(result)"
      ],
      "metadata": {
        "colab": {
          "base_uri": "https://localhost:8080/"
        },
        "id": "2rHC8QrqZk1r",
        "outputId": "996feb7c-e9cf-4f59-b0de-7e68826b7dc0"
      },
      "execution_count": null,
      "outputs": [
        {
          "output_type": "stream",
          "name": "stdout",
          "text": [
            "['John has 6 cats', 'Susan has 3 dogs', 'Mike has 8 fishes']\n"
          ]
        }
      ]
    },
    {
      "cell_type": "code",
      "source": [
        "result = re.findall(r\"([A-Za-z]+) \\w+ \\d+ \\w+\",string)\n",
        "print(result)"
      ],
      "metadata": {
        "colab": {
          "base_uri": "https://localhost:8080/"
        },
        "id": "-aXNvf9jlUDH",
        "outputId": "07e67aaa-5ac7-4e8b-e47e-c6882af9c8ee"
      },
      "execution_count": null,
      "outputs": [
        {
          "output_type": "stream",
          "name": "stdout",
          "text": [
            "['John', 'Susan', 'Mike']\n"
          ]
        }
      ]
    },
    {
      "cell_type": "code",
      "source": [
        "result = re.findall(r\"[A-Za-z]+ \\w+ (\\d+) \\w+\",string)\n",
        "print(result)"
      ],
      "metadata": {
        "colab": {
          "base_uri": "https://localhost:8080/"
        },
        "id": "LyhNhnYblUFV",
        "outputId": "5a26007a-4b2e-4908-ef99-080e24b1bfe6"
      },
      "execution_count": null,
      "outputs": [
        {
          "output_type": "stream",
          "name": "stdout",
          "text": [
            "['6', '3', '8']\n"
          ]
        }
      ]
    },
    {
      "cell_type": "code",
      "source": [
        "result = re.findall(r\"[A-Za-z]+ \\w+ \\d+ (\\w+)\",string)\n",
        "print(result)"
      ],
      "metadata": {
        "colab": {
          "base_uri": "https://localhost:8080/"
        },
        "id": "prk66G26lUH1",
        "outputId": "d85f76fb-e319-40ca-f207-c43fe687a682"
      },
      "execution_count": null,
      "outputs": [
        {
          "output_type": "stream",
          "name": "stdout",
          "text": [
            "['cats', 'dogs', 'fishes']\n"
          ]
        }
      ]
    },
    {
      "cell_type": "code",
      "source": [
        "result = re.findall(r\"([A-Za-z]+) \\w+ (\\d+) (\\w+)\",string)\n",
        "print(result)"
      ],
      "metadata": {
        "colab": {
          "base_uri": "https://localhost:8080/"
        },
        "id": "GMlgNuXMlUKU",
        "outputId": "09399317-3993-45ac-d0ac-b0f342d37144"
      },
      "execution_count": null,
      "outputs": [
        {
          "output_type": "stream",
          "name": "stdout",
          "text": [
            "[('John', '6', 'cats'), ('Susan', '3', 'dogs'), ('Mike', '8', 'fishes')]\n"
          ]
        }
      ]
    },
    {
      "cell_type": "code",
      "source": [
        "list(zip(*result))"
      ],
      "metadata": {
        "colab": {
          "base_uri": "https://localhost:8080/"
        },
        "id": "Gt5ek_AclUMm",
        "outputId": "c886a2a2-7f54-4e40-83e1-87eb602af16e"
      },
      "execution_count": null,
      "outputs": [
        {
          "output_type": "execute_result",
          "data": {
            "text/plain": [
              "[('John', 'Susan', 'Mike'), ('6', '3', '8'), ('cats', 'dogs', 'fishes')]"
            ]
          },
          "metadata": {},
          "execution_count": 41
        }
      ]
    },
    {
      "cell_type": "code",
      "source": [
        "result = re.search(r\"([A-Za-z]+) \\w+ (\\d+) (\\w+)\",string)\n",
        "print(result.group(0))\n",
        "print(result.group(1))\n",
        "print(result.group(2))\n",
        "print(result.group(1,3))"
      ],
      "metadata": {
        "colab": {
          "base_uri": "https://localhost:8080/"
        },
        "id": "bWD6DCmml5Bv",
        "outputId": "c528c0f1-dec9-4492-fbb7-8aa12b093a2d"
      },
      "execution_count": null,
      "outputs": [
        {
          "output_type": "stream",
          "name": "stdout",
          "text": [
            "John has 6 cats\n",
            "John\n",
            "6\n",
            "('John', 'cats')\n"
          ]
        }
      ]
    },
    {
      "cell_type": "code",
      "source": [
        "result.span()"
      ],
      "metadata": {
        "colab": {
          "base_uri": "https://localhost:8080/"
        },
        "id": "1S_QGnQ7l5Eb",
        "outputId": "c3251193-3dbd-4b7c-c1b3-5909cbeafb0a"
      },
      "execution_count": null,
      "outputs": [
        {
          "output_type": "execute_result",
          "data": {
            "text/plain": [
              "(0, 15)"
            ]
          },
          "metadata": {},
          "execution_count": 46
        }
      ]
    },
    {
      "cell_type": "code",
      "source": [
        "result.span(2)"
      ],
      "metadata": {
        "colab": {
          "base_uri": "https://localhost:8080/"
        },
        "id": "H8X9bPoll5Gv",
        "outputId": "64ebb518-f504-4fcc-b6da-1fb58c2c7451"
      },
      "execution_count": null,
      "outputs": [
        {
          "output_type": "execute_result",
          "data": {
            "text/plain": [
              "(9, 10)"
            ]
          },
          "metadata": {},
          "execution_count": 47
        }
      ]
    },
    {
      "cell_type": "code",
      "source": [
        "result = re.findall(r\"(([A-Za-z]+) \\w+ (\\d+) (\\w+))\",string)\n",
        "print(result)"
      ],
      "metadata": {
        "colab": {
          "base_uri": "https://localhost:8080/"
        },
        "id": "GGtwF_o8l5J2",
        "outputId": "750bdacc-ef5f-4de0-cec1-87fa44f95d12"
      },
      "execution_count": null,
      "outputs": [
        {
          "output_type": "stream",
          "name": "stdout",
          "text": [
            "[('John has 6 cats', 'John', '6', 'cats'), ('Susan has 3 dogs', 'Susan', '3', 'dogs'), ('Mike has 8 fishes', 'Mike', '8', 'fishes')]\n"
          ]
        }
      ]
    },
    {
      "cell_type": "markdown",
      "source": [
        "Split"
      ],
      "metadata": {
        "id": "uoImxtU8nUK9"
      }
    },
    {
      "cell_type": "code",
      "source": [
        "target_string = \"My name is maximums and my luck numbers are 12 45 78\"\n",
        "re.split(r'\\s+', target_string)"
      ],
      "metadata": {
        "colab": {
          "base_uri": "https://localhost:8080/"
        },
        "id": "sJ5p-W8Zl5Md",
        "outputId": "50c69d55-e556-4a2a-a38b-edb9e1aac354"
      },
      "execution_count": null,
      "outputs": [
        {
          "output_type": "execute_result",
          "data": {
            "text/plain": [
              "['My',\n",
              " 'name',\n",
              " 'is',\n",
              " 'maximums',\n",
              " 'and',\n",
              " 'my',\n",
              " 'luck',\n",
              " 'numbers',\n",
              " 'are',\n",
              " '12',\n",
              " '45',\n",
              " '78']"
            ]
          },
          "metadata": {},
          "execution_count": 49
        }
      ]
    },
    {
      "cell_type": "code",
      "source": [
        "target_string = \"12-45-78\"\n",
        "result=re.split(r'\\D', target_string, maxsplit=1)\n",
        "print(result)"
      ],
      "metadata": {
        "colab": {
          "base_uri": "https://localhost:8080/"
        },
        "id": "Tuf3r1rZl5Oz",
        "outputId": "8cb76616-53f5-4f58-a9ba-84047936aef6"
      },
      "execution_count": null,
      "outputs": [
        {
          "output_type": "stream",
          "name": "stdout",
          "text": [
            "['12', '45-78']\n"
          ]
        }
      ]
    },
    {
      "cell_type": "code",
      "source": [
        "result=re.split(r'\\D', target_string, maxsplit=2)\n",
        "print(result)"
      ],
      "metadata": {
        "colab": {
          "base_uri": "https://localhost:8080/"
        },
        "id": "Hk0EH7BSl5Rb",
        "outputId": "1856ed8e-5f05-40ac-8765-2ce079835187"
      },
      "execution_count": null,
      "outputs": [
        {
          "output_type": "stream",
          "name": "stdout",
          "text": [
            "['12', '45', '78']\n"
          ]
        }
      ]
    },
    {
      "cell_type": "code",
      "source": [
        "result=re.split(r'\\D', target_string, maxsplit=3)\n",
        "print(result)"
      ],
      "metadata": {
        "colab": {
          "base_uri": "https://localhost:8080/"
        },
        "id": "XnVMzLFTl5UE",
        "outputId": "7931ba12-5de6-48e0-8960-282893f958d6"
      },
      "execution_count": null,
      "outputs": [
        {
          "output_type": "stream",
          "name": "stdout",
          "text": [
            "['12', '45', '78']\n"
          ]
        }
      ]
    },
    {
      "cell_type": "code",
      "source": [
        "string = \"12,45,78-89-45-23\"\n",
        "result = re.split(r\"-|,\", string)\n",
        "result"
      ],
      "metadata": {
        "colab": {
          "base_uri": "https://localhost:8080/"
        },
        "id": "PBTefgdLl5Wq",
        "outputId": "d9718000-d258-474a-933e-ce57ed804df2"
      },
      "execution_count": null,
      "outputs": [
        {
          "output_type": "execute_result",
          "data": {
            "text/plain": [
              "['12', '45', '78', '89', '45', '23']"
            ]
          },
          "metadata": {},
          "execution_count": 2
        }
      ]
    },
    {
      "cell_type": "code",
      "source": [
        "string = \"12,45,78-89-45-23\"\n",
        "result = re.split(r\"[-;,.\\s]\", string)\n",
        "result"
      ],
      "metadata": {
        "colab": {
          "base_uri": "https://localhost:8080/"
        },
        "id": "_afI6oeBlUN-",
        "outputId": "82e71415-2089-4a6d-d049-18facdc648fd"
      },
      "execution_count": null,
      "outputs": [
        {
          "output_type": "execute_result",
          "data": {
            "text/plain": [
              "['12', '45', '78', '89', '45', '23']"
            ]
          },
          "metadata": {},
          "execution_count": 3
        }
      ]
    },
    {
      "cell_type": "code",
      "source": [
        "target_string = \"PYnative dot.com; is for, Python-developer\"\n",
        "result = re.split(r\"[-;,.\\s]\\s*\", target_string)\n",
        "result"
      ],
      "metadata": {
        "colab": {
          "base_uri": "https://localhost:8080/"
        },
        "id": "YoPmr4Sx8M46",
        "outputId": "7011983f-2767-4e8a-a7fe-6a2b56f67040"
      },
      "execution_count": null,
      "outputs": [
        {
          "output_type": "execute_result",
          "data": {
            "text/plain": [
              "['PYnative', 'dot', 'com', 'is', 'for', 'Python', 'developer']"
            ]
          },
          "metadata": {},
          "execution_count": 6
        }
      ]
    },
    {
      "cell_type": "code",
      "source": [
        "target_string = \"PYnative dot.com; is for, Python-developer\"\n",
        "result = re.split(r\"[\\b\\W\\b]+\", target_string)\n",
        "result"
      ],
      "metadata": {
        "colab": {
          "base_uri": "https://localhost:8080/"
        },
        "id": "M-uNLV4v8M7W",
        "outputId": "314d6f3a-5c05-40ff-b8a1-45d30894f1df"
      },
      "execution_count": null,
      "outputs": [
        {
          "output_type": "execute_result",
          "data": {
            "text/plain": [
              "['PYnative', 'dot', 'com', 'is', 'for', 'Python', 'developer']"
            ]
          },
          "metadata": {},
          "execution_count": 7
        }
      ]
    },
    {
      "cell_type": "code",
      "source": [
        "ext = \"12, and45,78and85-17and89-97\"\n",
        "result = re.split(r\"[\\b\\D\\b]+\", ext)\n",
        "result"
      ],
      "metadata": {
        "colab": {
          "base_uri": "https://localhost:8080/"
        },
        "id": "BPqNgQHf8M91",
        "outputId": "9d45f560-b9e9-4db0-dba8-e8994e146015"
      },
      "execution_count": null,
      "outputs": [
        {
          "output_type": "execute_result",
          "data": {
            "text/plain": [
              "['12', '45', '78', '85', '17', '89', '97']"
            ]
          },
          "metadata": {},
          "execution_count": 18
        }
      ]
    },
    {
      "cell_type": "code",
      "source": [
        "result = re.findall(r\"\\d+\",ext)\n",
        "result"
      ],
      "metadata": {
        "colab": {
          "base_uri": "https://localhost:8080/"
        },
        "id": "_VHUMO3i8NAF",
        "outputId": "1948a1d8-adfd-4231-ec4f-45ecd9fba149"
      },
      "execution_count": null,
      "outputs": [
        {
          "output_type": "execute_result",
          "data": {
            "text/plain": [
              "['12', '45', '78', '85', '17', '89', '97']"
            ]
          },
          "metadata": {},
          "execution_count": 20
        }
      ]
    },
    {
      "cell_type": "code",
      "source": [
        "target_string = \"Jessa knows testing and machine learning\"\n",
        "result = re.sub(r'\\s',\"_\",target_string)\n",
        "result"
      ],
      "metadata": {
        "colab": {
          "base_uri": "https://localhost:8080/",
          "height": 35
        },
        "id": "SHBjEspc8NCv",
        "outputId": "21cb6942-588b-4b0c-8c24-f24b9270577b"
      },
      "execution_count": null,
      "outputs": [
        {
          "output_type": "execute_result",
          "data": {
            "application/vnd.google.colaboratory.intrinsic+json": {
              "type": "string"
            },
            "text/plain": [
              "'Jessa_knows_testing_and_machine_learning'"
            ]
          },
          "metadata": {},
          "execution_count": 22
        }
      ]
    },
    {
      "cell_type": "code",
      "source": [
        "target_string = \"Jessa knows testing and machine learning\"\n",
        "result = re.sub(r'\\s',\"\",target_string)\n",
        "result"
      ],
      "metadata": {
        "colab": {
          "base_uri": "https://localhost:8080/",
          "height": 35
        },
        "id": "2FGbDUvR8NFN",
        "outputId": "9caa4fd3-3d25-4e49-9e50-14e553697f06"
      },
      "execution_count": null,
      "outputs": [
        {
          "output_type": "execute_result",
          "data": {
            "application/vnd.google.colaboratory.intrinsic+json": {
              "type": "string"
            },
            "text/plain": [
              "'Jessaknowstestingandmachinelearning'"
            ]
          },
          "metadata": {},
          "execution_count": 23
        }
      ]
    },
    {
      "cell_type": "code",
      "source": [
        "target_string = \"      Jessa knows testing and machine learning\"\n",
        "result = re.sub(r'^\\s+\\b',\"\",target_string)\n",
        "result"
      ],
      "metadata": {
        "colab": {
          "base_uri": "https://localhost:8080/",
          "height": 35
        },
        "id": "fqMhmaXw8NHm",
        "outputId": "38b2f868-12d3-48ab-b13b-c6cf33ad3579"
      },
      "execution_count": null,
      "outputs": [
        {
          "output_type": "execute_result",
          "data": {
            "application/vnd.google.colaboratory.intrinsic+json": {
              "type": "string"
            },
            "text/plain": [
              "'Jessa knows testing and machine learning'"
            ]
          },
          "metadata": {},
          "execution_count": 26
        }
      ]
    },
    {
      "cell_type": "code",
      "source": [
        "target_string = \"Jessa knows testing and machine learning\"\n",
        "result = re.sub(r'\\s',\"_\",target_string, count=1)\n",
        "result"
      ],
      "metadata": {
        "colab": {
          "base_uri": "https://localhost:8080/",
          "height": 35
        },
        "id": "VtceSkDJ8NKJ",
        "outputId": "f7ce25de-91f8-4328-82b9-5e26021308ac"
      },
      "execution_count": null,
      "outputs": [
        {
          "output_type": "execute_result",
          "data": {
            "application/vnd.google.colaboratory.intrinsic+json": {
              "type": "string"
            },
            "text/plain": [
              "'Jessa_knows testing and machine learning'"
            ]
          },
          "metadata": {},
          "execution_count": 27
        }
      ]
    },
    {
      "cell_type": "code",
      "source": [
        "target_string = \"Jessa knows testing and machine learning\"\n",
        "result = re.sub(r'\\s',\"_\",target_string, count=3)\n",
        "result"
      ],
      "metadata": {
        "colab": {
          "base_uri": "https://localhost:8080/",
          "height": 35
        },
        "id": "nXGEIPFW8NMv",
        "outputId": "0b2169f5-92a1-49f3-d0a1-b0ecf9cc97b9"
      },
      "execution_count": null,
      "outputs": [
        {
          "output_type": "execute_result",
          "data": {
            "application/vnd.google.colaboratory.intrinsic+json": {
              "type": "string"
            },
            "text/plain": [
              "'Jessa_knows_testing_and machine learning'"
            ]
          },
          "metadata": {},
          "execution_count": 28
        }
      ]
    },
    {
      "cell_type": "code",
      "source": [
        "target_string = \"Jessa knows testing and machine learning\"\n",
        "result = re.sub(r'\\s',\"_\",target_string, count=1, flags=re.I)\n",
        "result"
      ],
      "metadata": {
        "colab": {
          "base_uri": "https://localhost:8080/",
          "height": 35
        },
        "id": "Fgr7SYJl_RSZ",
        "outputId": "c6f8a101-c521-47af-9adf-0abc2d88bdce"
      },
      "execution_count": null,
      "outputs": [
        {
          "output_type": "execute_result",
          "data": {
            "application/vnd.google.colaboratory.intrinsic+json": {
              "type": "string"
            },
            "text/plain": [
              "'Jessa_knows testing and machine learning'"
            ]
          },
          "metadata": {},
          "execution_count": 30
        }
      ]
    },
    {
      "cell_type": "code",
      "source": [
        "student_names = \"Emma-Kelly Jessa Joy Scott-Joe Jerry\"\n",
        "result = re.sub(r'\\s|-',\"_\",target_string,)\n",
        "result"
      ],
      "metadata": {
        "colab": {
          "base_uri": "https://localhost:8080/",
          "height": 35
        },
        "id": "coi8c8xr_RVC",
        "outputId": "82082800-6394-47bd-f542-a8e3f127953e"
      },
      "execution_count": null,
      "outputs": [
        {
          "output_type": "execute_result",
          "data": {
            "application/vnd.google.colaboratory.intrinsic+json": {
              "type": "string"
            },
            "text/plain": [
              "'Jessa_knows_testing_and_machine_learning'"
            ]
          },
          "metadata": {},
          "execution_count": 31
        }
      ]
    },
    {
      "cell_type": "code",
      "source": [
        "str = \"123 456 789 abc def\"\n",
        "pattern = re.compile('\\d{3}')\n",
        "result=pattern.findall(str)\n",
        "result"
      ],
      "metadata": {
        "colab": {
          "base_uri": "https://localhost:8080/"
        },
        "id": "SR9gz4V7_Rl9",
        "outputId": "97c2c993-b8ad-43cf-c24c-46e372f2de08"
      },
      "execution_count": null,
      "outputs": [
        {
          "output_type": "execute_result",
          "data": {
            "text/plain": [
              "['123', '456', '789']"
            ]
          },
          "metadata": {},
          "execution_count": 32
        }
      ]
    },
    {
      "cell_type": "code",
      "source": [
        "text = '''Follow our leader Elon musk on twitter here: https://twitter.com/elonmusk, more information on Tesla's products can be found at https://www.tesla.com/. Also here are leading influencers for tesla related news,https://twitter.com/teslarati,https://twitter.com/dummy_teslahttps://twitter.com/dummy_2_tesla'''"
      ],
      "metadata": {
        "id": "v6sD9Z4N_RXI"
      },
      "execution_count": null,
      "outputs": []
    },
    {
      "cell_type": "code",
      "source": [
        "re.findall(r\"twitter.com/(\\w+)\\b\",text)"
      ],
      "metadata": {
        "colab": {
          "base_uri": "https://localhost:8080/"
        },
        "id": "TfxaVNf3_RZv",
        "outputId": "0f6e1bc7-4669-43cc-fe29-87942ff2228c"
      },
      "execution_count": null,
      "outputs": [
        {
          "output_type": "execute_result",
          "data": {
            "text/plain": [
              "['elonmusk', 'teslarati', 'dummy_teslahttps', 'dummy_2_tesla']"
            ]
          },
          "metadata": {},
          "execution_count": 46
        }
      ]
    },
    {
      "cell_type": "code",
      "source": [
        "text = \"dheerashaji@gmail.com\"\n",
        "re.findall(r'\\w+@\\w+.com',text)"
      ],
      "metadata": {
        "colab": {
          "base_uri": "https://localhost:8080/"
        },
        "id": "n3oqBgo2_RcE",
        "outputId": "f5383daa-494a-4976-e374-78689fb7da12"
      },
      "execution_count": null,
      "outputs": [
        {
          "output_type": "execute_result",
          "data": {
            "text/plain": [
              "['dheerashaji@gmail.com']"
            ]
          },
          "metadata": {},
          "execution_count": 53
        }
      ]
    },
    {
      "cell_type": "code",
      "source": [
        "text = '''Concentration of Risk: Credit RiskFinancial instruments that potentially subject us to a concentration of credit risk consist of cash, cash equivalents, marketable securities,restricted cash, accounts receivable, convertible note hedges, and interest rate swaps. Our cash balances are primarily invested in money market fundsor on deposit at high credit quality financial institutions in the U.S. These deposits are typically in excess of insured limits. As of September 30, 2021and December 31, 2020, no entity represented 10% or more of our total accounts receivable balance. The risk of concentration for our convertible notehedges and interest rate swaps is mitigated by transacting with several highly-rated multinational banks.Concentration of Risk: Supply Risk. We are dependent on our suppliers, including single source suppliers, and the inability of these suppliers to deliver necessary components of ourproducts in a timely manner at prices, quality levels and volumes acceptable to us, or our inability to efficiently manage these components from thesesuppliers, could have a material adverse effect on our business, prospects, financial condition and operating results.'''"
      ],
      "metadata": {
        "id": "VNmbtYxGlUPX"
      },
      "execution_count": null,
      "outputs": []
    },
    {
      "cell_type": "code",
      "source": [
        "re.findall(r\"Concentration of Risk: (\\w+ \\w+)\",text)"
      ],
      "metadata": {
        "colab": {
          "base_uri": "https://localhost:8080/"
        },
        "id": "C4vaukmTDJXW",
        "outputId": "b817e4ce-bd1d-4082-9dff-d41522930d97"
      },
      "execution_count": null,
      "outputs": [
        {
          "output_type": "execute_result",
          "data": {
            "text/plain": [
              "['Credit RiskFinancial', 'Supply Risk']"
            ]
          },
          "metadata": {},
          "execution_count": 61
        }
      ]
    },
    {
      "cell_type": "code",
      "source": [
        "re.findall(r\"Concentration of Risk: (\\w+ Risk)\",text)"
      ],
      "metadata": {
        "colab": {
          "base_uri": "https://localhost:8080/"
        },
        "id": "CWNSu5u4EOXH",
        "outputId": "37221909-2e73-4f6c-cb99-9f1700a77296"
      },
      "execution_count": null,
      "outputs": [
        {
          "output_type": "execute_result",
          "data": {
            "text/plain": [
              "['Credit Risk', 'Supply Risk']"
            ]
          },
          "metadata": {},
          "execution_count": 62
        }
      ]
    },
    {
      "cell_type": "code",
      "source": [
        "text = '''Tesla's gross cost of operating lease vehicles in FY2021 Q1 was $4.85 billion.BMW's gross cost of operating vehicles in FY2021 S1 was $8 billion.'''\n",
        "re.findall(r\"FY(\\d{4}\\s\\w\\d)\", text)"
      ],
      "metadata": {
        "colab": {
          "base_uri": "https://localhost:8080/"
        },
        "id": "oJZU8W3kEdgo",
        "outputId": "4436dd05-9957-4c02-9db3-8e11e5ea351a"
      },
      "execution_count": null,
      "outputs": [
        {
          "output_type": "execute_result",
          "data": {
            "text/plain": [
              "['2021 Q1', '2021 S1']"
            ]
          },
          "metadata": {},
          "execution_count": 69
        }
      ]
    },
    {
      "cell_type": "code",
      "source": [
        "s1 = 'creed refuse removed read'\n",
        "s2 = 'refused reed redo received'\n",
        "re.findall(r\"re[mcf]\\w+\",s1)"
      ],
      "metadata": {
        "colab": {
          "base_uri": "https://localhost:8080/"
        },
        "id": "OPyDWnEZEdjG",
        "outputId": "7d4a1442-af76-47ad-8617-b64d6c4963d8"
      },
      "execution_count": null,
      "outputs": [
        {
          "output_type": "execute_result",
          "data": {
            "text/plain": [
              "['refuse', 'removed']"
            ]
          },
          "metadata": {},
          "execution_count": 70
        }
      ]
    }
  ]
}